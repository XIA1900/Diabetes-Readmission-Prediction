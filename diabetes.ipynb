{
 "cells": [
  {
   "cell_type": "markdown",
   "metadata": {},
   "source": [
    "<font size=6><center>Predict Readmissions of Diabetic Patients Utilizing Machine Learning Methods</center> </font> \n",
    "<font size=4> Author: Yuwei Xia </font>\n",
    "***"
   ]
  },
  {
   "cell_type": "markdown",
   "metadata": {},
   "source": [
    "# ABSTRACT"
   ]
  },
  {
   "cell_type": "markdown",
   "metadata": {
    "ExecuteTime": {
     "end_time": "2019-06-20T04:53:12.713604Z",
     "start_time": "2019-06-20T04:53:12.698823Z"
    }
   },
   "source": [
    "Health care has become more and more important in U.S. nowadays and the service provided by health systems are now evaluated by a program called Hospital Readmissions Reduction Program (HRRP). This program aims to improve Americans’ health care via penalising health systems that have higher than expected readmission rates. Thus, health systems are supposed to try hard decreasing their readmission rates. Nevertheless, patterns of readmissions are hard to identify only according to clinical expertise, owing to the diversity and complexity of demographic, social, diseases and diseases-related characteristics. Therefore, this research targets diabetic patients and identifies readmission patterns of them. After rebalancing the dataset, seven machine learning models are applied, containing Logistic Regression, Decision Tree, Support Vector Machine, Naive Bayes, K-Nearest Neighbour, Random Forest and Gradient Boosting Decision Tree. Performance of these models is compared and the results show that Random Forest, whose f1-score is 93.4% and recall 88.7%, outperforms all the other methods, including those used in previous researches. Finally, top 20 features contribute most to readmissions of diabetic patients are identified by Random Forest."
   ]
  },
  {
   "cell_type": "markdown",
   "metadata": {
    "slideshow": {
     "slide_type": "subslide"
    }
   },
   "source": [
    "# DATA"
   ]
  },
  {
   "cell_type": "markdown",
   "metadata": {
    "deletable": false,
    "editable": false,
    "run_control": {
     "frozen": true
    }
   },
   "source": [
    "Source website: http://archive.ics.uci.edu/ml/datasets/Diabetes+130-US+hospitals+for+years+1999-2008#"
   ]
  },
  {
   "cell_type": "markdown",
   "metadata": {},
   "source": [
    "The dataset applied for all analysis of this research is from the UCI Repository of Machine Learning Databases[35]. This dataset contains medical records of 101765 patients diagnosed with diabetes collected from 130 U.S. hospitals for 10 years(1999-2008) and includes 50 features describing the diabetic encounters, comprising demographics, diagnoses, diabetic medications, number of visits in the year preceding the encounter and payer information[36]."
   ]
  },
  {
   "cell_type": "markdown",
   "metadata": {
    "ExecuteTime": {
     "start_time": "2019-06-14T11:38:41.375Z"
    }
   },
   "source": [
    "All data satisfies the following criteria: \n",
    "1. It is an inpatient encounter (a hospital admission); \n",
    "2. It is a diabetic encounter, that is, one during which any kind of diabetes was entered to the system as a diagnosis; \n",
    "3. The length of stay was at least 1 day and at most 14 days; \n",
    "4. Laboratory tests were performed during the encounter; \n",
    "5. Medications were administered during the encounter."
   ]
  },
  {
   "cell_type": "code",
   "execution_count": 1,
   "metadata": {
    "ExecuteTime": {
     "end_time": "2019-06-18T10:42:36.512303Z",
     "start_time": "2019-06-18T10:42:35.423576Z"
    }
   },
   "outputs": [],
   "source": [
    "import pandas as pd \n",
    "import numpy as np\n",
    "import matplotlib.pyplot as plt\n",
    "import seaborn as sns"
   ]
  },
  {
   "cell_type": "code",
   "execution_count": 2,
   "metadata": {
    "ExecuteTime": {
     "end_time": "2019-06-18T10:42:37.463382Z",
     "start_time": "2019-06-18T10:42:36.878871Z"
    }
   },
   "outputs": [],
   "source": [
    "diabete=pd.read_csv('diabetic_data.csv')"
   ]
  },
  {
   "cell_type": "code",
   "execution_count": 3,
   "metadata": {
    "ExecuteTime": {
     "end_time": "2019-06-18T10:42:37.604515Z",
     "start_time": "2019-06-18T10:42:37.578381Z"
    },
    "scrolled": false
   },
   "outputs": [
    {
     "data": {
      "text/html": [
       "<div>\n",
       "<style scoped>\n",
       "    .dataframe tbody tr th:only-of-type {\n",
       "        vertical-align: middle;\n",
       "    }\n",
       "\n",
       "    .dataframe tbody tr th {\n",
       "        vertical-align: top;\n",
       "    }\n",
       "\n",
       "    .dataframe thead th {\n",
       "        text-align: right;\n",
       "    }\n",
       "</style>\n",
       "<table border=\"1\" class=\"dataframe\">\n",
       "  <thead>\n",
       "    <tr style=\"text-align: right;\">\n",
       "      <th></th>\n",
       "      <th>encounter_id</th>\n",
       "      <th>patient_nbr</th>\n",
       "      <th>race</th>\n",
       "      <th>gender</th>\n",
       "      <th>age</th>\n",
       "      <th>weight</th>\n",
       "      <th>admission_type_id</th>\n",
       "      <th>discharge_disposition_id</th>\n",
       "      <th>admission_source_id</th>\n",
       "      <th>time_in_hospital</th>\n",
       "      <th>...</th>\n",
       "      <th>citoglipton</th>\n",
       "      <th>insulin</th>\n",
       "      <th>glyburide-metformin</th>\n",
       "      <th>glipizide-metformin</th>\n",
       "      <th>glimepiride-pioglitazone</th>\n",
       "      <th>metformin-rosiglitazone</th>\n",
       "      <th>metformin-pioglitazone</th>\n",
       "      <th>change</th>\n",
       "      <th>diabetesMed</th>\n",
       "      <th>readmitted</th>\n",
       "    </tr>\n",
       "  </thead>\n",
       "  <tbody>\n",
       "    <tr>\n",
       "      <th>0</th>\n",
       "      <td>2278392</td>\n",
       "      <td>8222157</td>\n",
       "      <td>Caucasian</td>\n",
       "      <td>Female</td>\n",
       "      <td>[0-10)</td>\n",
       "      <td>?</td>\n",
       "      <td>6</td>\n",
       "      <td>25</td>\n",
       "      <td>1</td>\n",
       "      <td>1</td>\n",
       "      <td>...</td>\n",
       "      <td>No</td>\n",
       "      <td>No</td>\n",
       "      <td>No</td>\n",
       "      <td>No</td>\n",
       "      <td>No</td>\n",
       "      <td>No</td>\n",
       "      <td>No</td>\n",
       "      <td>No</td>\n",
       "      <td>No</td>\n",
       "      <td>NO</td>\n",
       "    </tr>\n",
       "    <tr>\n",
       "      <th>1</th>\n",
       "      <td>149190</td>\n",
       "      <td>55629189</td>\n",
       "      <td>Caucasian</td>\n",
       "      <td>Female</td>\n",
       "      <td>[10-20)</td>\n",
       "      <td>?</td>\n",
       "      <td>1</td>\n",
       "      <td>1</td>\n",
       "      <td>7</td>\n",
       "      <td>3</td>\n",
       "      <td>...</td>\n",
       "      <td>No</td>\n",
       "      <td>Up</td>\n",
       "      <td>No</td>\n",
       "      <td>No</td>\n",
       "      <td>No</td>\n",
       "      <td>No</td>\n",
       "      <td>No</td>\n",
       "      <td>Ch</td>\n",
       "      <td>Yes</td>\n",
       "      <td>&gt;30</td>\n",
       "    </tr>\n",
       "    <tr>\n",
       "      <th>2</th>\n",
       "      <td>64410</td>\n",
       "      <td>86047875</td>\n",
       "      <td>AfricanAmerican</td>\n",
       "      <td>Female</td>\n",
       "      <td>[20-30)</td>\n",
       "      <td>?</td>\n",
       "      <td>1</td>\n",
       "      <td>1</td>\n",
       "      <td>7</td>\n",
       "      <td>2</td>\n",
       "      <td>...</td>\n",
       "      <td>No</td>\n",
       "      <td>No</td>\n",
       "      <td>No</td>\n",
       "      <td>No</td>\n",
       "      <td>No</td>\n",
       "      <td>No</td>\n",
       "      <td>No</td>\n",
       "      <td>No</td>\n",
       "      <td>Yes</td>\n",
       "      <td>NO</td>\n",
       "    </tr>\n",
       "    <tr>\n",
       "      <th>3</th>\n",
       "      <td>500364</td>\n",
       "      <td>82442376</td>\n",
       "      <td>Caucasian</td>\n",
       "      <td>Male</td>\n",
       "      <td>[30-40)</td>\n",
       "      <td>?</td>\n",
       "      <td>1</td>\n",
       "      <td>1</td>\n",
       "      <td>7</td>\n",
       "      <td>2</td>\n",
       "      <td>...</td>\n",
       "      <td>No</td>\n",
       "      <td>Up</td>\n",
       "      <td>No</td>\n",
       "      <td>No</td>\n",
       "      <td>No</td>\n",
       "      <td>No</td>\n",
       "      <td>No</td>\n",
       "      <td>Ch</td>\n",
       "      <td>Yes</td>\n",
       "      <td>NO</td>\n",
       "    </tr>\n",
       "    <tr>\n",
       "      <th>4</th>\n",
       "      <td>16680</td>\n",
       "      <td>42519267</td>\n",
       "      <td>Caucasian</td>\n",
       "      <td>Male</td>\n",
       "      <td>[40-50)</td>\n",
       "      <td>?</td>\n",
       "      <td>1</td>\n",
       "      <td>1</td>\n",
       "      <td>7</td>\n",
       "      <td>1</td>\n",
       "      <td>...</td>\n",
       "      <td>No</td>\n",
       "      <td>Steady</td>\n",
       "      <td>No</td>\n",
       "      <td>No</td>\n",
       "      <td>No</td>\n",
       "      <td>No</td>\n",
       "      <td>No</td>\n",
       "      <td>Ch</td>\n",
       "      <td>Yes</td>\n",
       "      <td>NO</td>\n",
       "    </tr>\n",
       "  </tbody>\n",
       "</table>\n",
       "<p>5 rows × 50 columns</p>\n",
       "</div>"
      ],
      "text/plain": [
       "   encounter_id  patient_nbr             race  gender      age weight  \\\n",
       "0       2278392      8222157        Caucasian  Female   [0-10)      ?   \n",
       "1        149190     55629189        Caucasian  Female  [10-20)      ?   \n",
       "2         64410     86047875  AfricanAmerican  Female  [20-30)      ?   \n",
       "3        500364     82442376        Caucasian    Male  [30-40)      ?   \n",
       "4         16680     42519267        Caucasian    Male  [40-50)      ?   \n",
       "\n",
       "   admission_type_id  discharge_disposition_id  admission_source_id  \\\n",
       "0                  6                        25                    1   \n",
       "1                  1                         1                    7   \n",
       "2                  1                         1                    7   \n",
       "3                  1                         1                    7   \n",
       "4                  1                         1                    7   \n",
       "\n",
       "   time_in_hospital  ... citoglipton insulin  glyburide-metformin  \\\n",
       "0                 1  ...          No      No                   No   \n",
       "1                 3  ...          No      Up                   No   \n",
       "2                 2  ...          No      No                   No   \n",
       "3                 2  ...          No      Up                   No   \n",
       "4                 1  ...          No  Steady                   No   \n",
       "\n",
       "   glipizide-metformin  glimepiride-pioglitazone  metformin-rosiglitazone  \\\n",
       "0                   No                        No                       No   \n",
       "1                   No                        No                       No   \n",
       "2                   No                        No                       No   \n",
       "3                   No                        No                       No   \n",
       "4                   No                        No                       No   \n",
       "\n",
       "   metformin-pioglitazone  change diabetesMed readmitted  \n",
       "0                      No      No          No         NO  \n",
       "1                      No      Ch         Yes        >30  \n",
       "2                      No      No         Yes         NO  \n",
       "3                      No      Ch         Yes         NO  \n",
       "4                      No      Ch         Yes         NO  \n",
       "\n",
       "[5 rows x 50 columns]"
      ]
     },
     "execution_count": 3,
     "metadata": {},
     "output_type": "execute_result"
    }
   ],
   "source": [
    "diabete.head(5)"
   ]
  },
  {
   "cell_type": "markdown",
   "metadata": {
    "slideshow": {
     "slide_type": "subslide"
    }
   },
   "source": [
    "# EDA"
   ]
  },
  {
   "cell_type": "markdown",
   "metadata": {},
   "source": [
    "## Basic Information"
   ]
  },
  {
   "cell_type": "code",
   "execution_count": 5,
   "metadata": {
    "ExecuteTime": {
     "end_time": "2019-06-14T12:05:22.516148Z",
     "start_time": "2019-06-14T12:05:22.510352Z"
    }
   },
   "outputs": [
    {
     "data": {
      "text/plain": [
       "(101766, 50)"
      ]
     },
     "execution_count": 5,
     "metadata": {},
     "output_type": "execute_result"
    }
   ],
   "source": [
    "diabete.shape"
   ]
  },
  {
   "cell_type": "code",
   "execution_count": 6,
   "metadata": {
    "ExecuteTime": {
     "end_time": "2019-06-14T12:05:26.018634Z",
     "start_time": "2019-06-14T12:05:25.790332Z"
    },
    "scrolled": false
   },
   "outputs": [
    {
     "name": "stdout",
     "output_type": "stream",
     "text": [
      "<class 'pandas.core.frame.DataFrame'>\n",
      "RangeIndex: 101766 entries, 0 to 101765\n",
      "Data columns (total 50 columns):\n",
      "encounter_id                101766 non-null int64\n",
      "patient_nbr                 101766 non-null int64\n",
      "race                        101766 non-null object\n",
      "gender                      101766 non-null object\n",
      "age                         101766 non-null object\n",
      "weight                      101766 non-null object\n",
      "admission_type_id           101766 non-null int64\n",
      "discharge_disposition_id    101766 non-null int64\n",
      "admission_source_id         101766 non-null int64\n",
      "time_in_hospital            101766 non-null int64\n",
      "payer_code                  101766 non-null object\n",
      "medical_specialty           101766 non-null object\n",
      "num_lab_procedures          101766 non-null int64\n",
      "num_procedures              101766 non-null int64\n",
      "num_medications             101766 non-null int64\n",
      "number_outpatient           101766 non-null int64\n",
      "number_emergency            101766 non-null int64\n",
      "number_inpatient            101766 non-null int64\n",
      "diag_1                      101766 non-null object\n",
      "diag_2                      101766 non-null object\n",
      "diag_3                      101766 non-null object\n",
      "number_diagnoses            101766 non-null int64\n",
      "max_glu_serum               101766 non-null object\n",
      "A1Cresult                   101766 non-null object\n",
      "metformin                   101766 non-null object\n",
      "repaglinide                 101766 non-null object\n",
      "nateglinide                 101766 non-null object\n",
      "chlorpropamide              101766 non-null object\n",
      "glimepiride                 101766 non-null object\n",
      "acetohexamide               101766 non-null object\n",
      "glipizide                   101766 non-null object\n",
      "glyburide                   101766 non-null object\n",
      "tolbutamide                 101766 non-null object\n",
      "pioglitazone                101766 non-null object\n",
      "rosiglitazone               101766 non-null object\n",
      "acarbose                    101766 non-null object\n",
      "miglitol                    101766 non-null object\n",
      "troglitazone                101766 non-null object\n",
      "tolazamide                  101766 non-null object\n",
      "examide                     101766 non-null object\n",
      "citoglipton                 101766 non-null object\n",
      "insulin                     101766 non-null object\n",
      "glyburide-metformin         101766 non-null object\n",
      "glipizide-metformin         101766 non-null object\n",
      "glimepiride-pioglitazone    101766 non-null object\n",
      "metformin-rosiglitazone     101766 non-null object\n",
      "metformin-pioglitazone      101766 non-null object\n",
      "change                      101766 non-null object\n",
      "diabetesMed                 101766 non-null object\n",
      "readmitted                  101766 non-null object\n",
      "dtypes: int64(13), object(37)\n",
      "memory usage: 38.8+ MB\n"
     ]
    }
   ],
   "source": [
    "diabete.info()"
   ]
  },
  {
   "cell_type": "code",
   "execution_count": 8,
   "metadata": {
    "ExecuteTime": {
     "end_time": "2019-06-14T12:05:35.566163Z",
     "start_time": "2019-06-14T12:05:35.359968Z"
    }
   },
   "outputs": [
    {
     "data": {
      "text/plain": [
       "encounter_id                False\n",
       "patient_nbr                 False\n",
       "race                        False\n",
       "gender                      False\n",
       "age                         False\n",
       "weight                      False\n",
       "admission_type_id           False\n",
       "discharge_disposition_id    False\n",
       "admission_source_id         False\n",
       "time_in_hospital            False\n",
       "payer_code                  False\n",
       "medical_specialty           False\n",
       "num_lab_procedures          False\n",
       "num_procedures              False\n",
       "num_medications             False\n",
       "number_outpatient           False\n",
       "number_emergency            False\n",
       "number_inpatient            False\n",
       "diag_1                      False\n",
       "diag_2                      False\n",
       "diag_3                      False\n",
       "number_diagnoses            False\n",
       "max_glu_serum               False\n",
       "A1Cresult                   False\n",
       "metformin                   False\n",
       "repaglinide                 False\n",
       "nateglinide                 False\n",
       "chlorpropamide              False\n",
       "glimepiride                 False\n",
       "acetohexamide               False\n",
       "glipizide                   False\n",
       "glyburide                   False\n",
       "tolbutamide                 False\n",
       "pioglitazone                False\n",
       "rosiglitazone               False\n",
       "acarbose                    False\n",
       "miglitol                    False\n",
       "troglitazone                False\n",
       "tolazamide                  False\n",
       "examide                     False\n",
       "citoglipton                 False\n",
       "insulin                     False\n",
       "glyburide-metformin         False\n",
       "glipizide-metformin         False\n",
       "glimepiride-pioglitazone    False\n",
       "metformin-rosiglitazone     False\n",
       "metformin-pioglitazone      False\n",
       "change                      False\n",
       "diabetesMed                 False\n",
       "readmitted                  False\n",
       "dtype: bool"
      ]
     },
     "execution_count": 8,
     "metadata": {},
     "output_type": "execute_result"
    }
   ],
   "source": [
    "diabete.isnull().any()"
   ]
  },
  {
   "cell_type": "markdown",
   "metadata": {},
   "source": [
    "This function to detect whether there are missing values and the results show that there are no missing values. However, this is not true because before the dataset was uploaded to the website, missing values had already been replaced by symbols such as \"?\" and meaningless strings. Therefore, at data pre-processing part, values of each features are checked to find out missing values."
   ]
  },
  {
   "cell_type": "markdown",
   "metadata": {},
   "source": [
    "## Label"
   ]
  },
  {
   "cell_type": "code",
   "execution_count": 64,
   "metadata": {
    "ExecuteTime": {
     "end_time": "2019-06-20T05:36:21.882814Z",
     "start_time": "2019-06-20T05:36:21.864658Z"
    },
    "code_folding": []
   },
   "outputs": [
    {
     "data": {
      "text/plain": [
       "NO     54864\n",
       ">30    35545\n",
       "<30    11357\n",
       "Name: readmitted, dtype: int64"
      ]
     },
     "execution_count": 64,
     "metadata": {},
     "output_type": "execute_result"
    }
   ],
   "source": [
    "d_label=diabete['readmitted']\n",
    "d_label=pd.DataFrame(d_label)\n",
    "d_label['readmitted'].value_counts()"
   ]
  },
  {
   "cell_type": "code",
   "execution_count": 65,
   "metadata": {
    "ExecuteTime": {
     "end_time": "2019-06-20T05:36:30.594105Z",
     "start_time": "2019-06-20T05:36:30.326879Z"
    },
    "code_folding": [],
    "scrolled": true
   },
   "outputs": [
    {
     "data": {
      "text/plain": [
       "<matplotlib.axes._subplots.AxesSubplot at 0x120cf1c18>"
      ]
     },
     "execution_count": 65,
     "metadata": {},
     "output_type": "execute_result"
    },
    {
     "data": {
      "image/png": "[encoded data removed]",
      "text/plain": [
       "<Figure size 432x288 with 1 Axes>"
      ]
     },
     "metadata": {},
     "output_type": "display_data"
    }
   ],
   "source": [
    "d_label.columns=['readmitted']\n",
    "sns.set(style=\"darkgrid\")\n",
    "sns.countplot(x='readmitted',data=d_label, palette=\"Set3\")"
   ]
  },
  {
   "cell_type": "markdown",
   "metadata": {},
   "source": [
    "Since the target of this research is to predict readmissions of diabetic patients, what we care about is those who readmitted within 30 days. However,. from the distribution of 'readmitted',  it is clear '<30' only accounts for a small part. This is an extremely imbalanced dataset."
   ]
  },
  {
   "cell_type": "markdown",
   "metadata": {},
   "source": [
    "## Numerical data"
   ]
  },
  {
   "cell_type": "code",
   "execution_count": 14,
   "metadata": {
    "ExecuteTime": {
     "end_time": "2019-06-15T03:34:33.709986Z",
     "start_time": "2019-06-15T03:34:33.641774Z"
    },
    "scrolled": true
   },
   "outputs": [],
   "source": [
    "dn=diabete[['time_in_hospital','num_lab_procedures','num_procedures','num_medications','number_outpatient','number_emergency','number_inpatient','number_diagnoses']].describe()\n"
   ]
  },
  {
   "cell_type": "code",
   "execution_count": 6,
   "metadata": {
    "ExecuteTime": {
     "end_time": "2019-06-15T23:06:43.282462Z",
     "start_time": "2019-06-15T23:06:43.229257Z"
    },
    "scrolled": true
   },
   "outputs": [
    {
     "data": {
      "text/html": [
       "<div>\n",
       "<style scoped>\n",
       "    .dataframe tbody tr th:only-of-type {\n",
       "        vertical-align: middle;\n",
       "    }\n",
       "\n",
       "    .dataframe tbody tr th {\n",
       "        vertical-align: top;\n",
       "    }\n",
       "\n",
       "    .dataframe thead th {\n",
       "        text-align: right;\n",
       "    }\n",
       "</style>\n",
       "<table border=\"1\" class=\"dataframe\">\n",
       "  <thead>\n",
       "    <tr style=\"text-align: right;\">\n",
       "      <th></th>\n",
       "      <th>time_in_hospital</th>\n",
       "      <th>num_lab_procedures</th>\n",
       "      <th>num_procedures</th>\n",
       "      <th>num_medications</th>\n",
       "      <th>number_outpatient</th>\n",
       "      <th>number_emergency</th>\n",
       "      <th>number_inpatient</th>\n",
       "      <th>number_diagnoses</th>\n",
       "    </tr>\n",
       "  </thead>\n",
       "  <tbody>\n",
       "    <tr>\n",
       "      <th>count</th>\n",
       "      <td>8.000000</td>\n",
       "      <td>8.000000</td>\n",
       "      <td>8.000000</td>\n",
       "      <td>8.000000</td>\n",
       "      <td>8.000000</td>\n",
       "      <td>8.000000</td>\n",
       "      <td>8.000000</td>\n",
       "      <td>8.000000</td>\n",
       "    </tr>\n",
       "    <tr>\n",
       "      <th>mean</th>\n",
       "      <td>12725.047637</td>\n",
       "      <td>12761.721250</td>\n",
       "      <td>12722.255692</td>\n",
       "      <td>12739.643676</td>\n",
       "      <td>12726.204578</td>\n",
       "      <td>12730.391039</td>\n",
       "      <td>12723.737304</td>\n",
       "      <td>12726.919526</td>\n",
       "    </tr>\n",
       "    <tr>\n",
       "      <th>std</th>\n",
       "      <td>35977.978063</td>\n",
       "      <td>35963.180253</td>\n",
       "      <td>35979.106005</td>\n",
       "      <td>35972.088779</td>\n",
       "      <td>35977.513330</td>\n",
       "      <td>35975.828562</td>\n",
       "      <td>35978.508014</td>\n",
       "      <td>35977.221778</td>\n",
       "    </tr>\n",
       "    <tr>\n",
       "      <th>min</th>\n",
       "      <td>1.000000</td>\n",
       "      <td>1.000000</td>\n",
       "      <td>0.000000</td>\n",
       "      <td>1.000000</td>\n",
       "      <td>0.000000</td>\n",
       "      <td>0.000000</td>\n",
       "      <td>0.000000</td>\n",
       "      <td>1.000000</td>\n",
       "    </tr>\n",
       "    <tr>\n",
       "      <th>25%</th>\n",
       "      <td>2.738831</td>\n",
       "      <td>28.168591</td>\n",
       "      <td>0.750000</td>\n",
       "      <td>9.531892</td>\n",
       "      <td>0.000000</td>\n",
       "      <td>0.000000</td>\n",
       "      <td>0.000000</td>\n",
       "      <td>4.983400</td>\n",
       "    </tr>\n",
       "    <tr>\n",
       "      <th>50%</th>\n",
       "      <td>4.197993</td>\n",
       "      <td>43.547820</td>\n",
       "      <td>1.522769</td>\n",
       "      <td>15.510922</td>\n",
       "      <td>0.184679</td>\n",
       "      <td>0.098918</td>\n",
       "      <td>0.817783</td>\n",
       "      <td>7.711303</td>\n",
       "    </tr>\n",
       "    <tr>\n",
       "      <th>75%</th>\n",
       "      <td>8.000000</td>\n",
       "      <td>75.750000</td>\n",
       "      <td>3.000000</td>\n",
       "      <td>35.250000</td>\n",
       "      <td>11.450449</td>\n",
       "      <td>19.697854</td>\n",
       "      <td>6.197147</td>\n",
       "      <td>10.750000</td>\n",
       "    </tr>\n",
       "    <tr>\n",
       "      <th>max</th>\n",
       "      <td>101766.000000</td>\n",
       "      <td>101766.000000</td>\n",
       "      <td>101766.000000</td>\n",
       "      <td>101766.000000</td>\n",
       "      <td>101766.000000</td>\n",
       "      <td>101766.000000</td>\n",
       "      <td>101766.000000</td>\n",
       "      <td>101766.000000</td>\n",
       "    </tr>\n",
       "  </tbody>\n",
       "</table>\n",
       "</div>"
      ],
      "text/plain": [
       "       time_in_hospital  num_lab_procedures  num_procedures  num_medications  \\\n",
       "count          8.000000            8.000000        8.000000         8.000000   \n",
       "mean       12725.047637        12761.721250    12722.255692     12739.643676   \n",
       "std        35977.978063        35963.180253    35979.106005     35972.088779   \n",
       "min            1.000000            1.000000        0.000000         1.000000   \n",
       "25%            2.738831           28.168591        0.750000         9.531892   \n",
       "50%            4.197993           43.547820        1.522769        15.510922   \n",
       "75%            8.000000           75.750000        3.000000        35.250000   \n",
       "max       101766.000000       101766.000000   101766.000000    101766.000000   \n",
       "\n",
       "       number_outpatient  number_emergency  number_inpatient  number_diagnoses  \n",
       "count           8.000000          8.000000          8.000000          8.000000  \n",
       "mean        12726.204578      12730.391039      12723.737304      12726.919526  \n",
       "std         35977.513330      35975.828562      35978.508014      35977.221778  \n",
       "min             0.000000          0.000000          0.000000          1.000000  \n",
       "25%             0.000000          0.000000          0.000000          4.983400  \n",
       "50%             0.184679          0.098918          0.817783          7.711303  \n",
       "75%            11.450449         19.697854          6.197147         10.750000  \n",
       "max        101766.000000     101766.000000     101766.000000     101766.000000  "
      ]
     },
     "execution_count": 6,
     "metadata": {},
     "output_type": "execute_result"
    }
   ],
   "source": [
    "dn.describe()"
   ]
  },
  {
   "cell_type": "markdown",
   "metadata": {},
   "source": [
    "<font size=3>All values are reasonable. Thus there is no outliers</font>"
   ]
  },
  {
   "cell_type": "markdown",
   "metadata": {
    "slideshow": {
     "slide_type": "subslide"
    }
   },
   "source": [
    "# DATA PREPROCESSING"
   ]
  },
  {
   "cell_type": "markdown",
   "metadata": {},
   "source": [
    "## Clean Features and Samples"
   ]
  },
  {
   "cell_type": "markdown",
   "metadata": {},
   "source": [
    "1. Correct wrong type features: int -> object"
   ]
  },
  {
   "cell_type": "code",
   "execution_count": 4,
   "metadata": {
    "ExecuteTime": {
     "end_time": "2019-06-18T10:42:40.713098Z",
     "start_time": "2019-06-18T10:42:40.688613Z"
    }
   },
   "outputs": [],
   "source": [
    "diabete[['admission_type_id','discharge_disposition_id','admission_source_id']]=diabete[['admission_type_id','discharge_disposition_id','admission_source_id']].astype('object')"
   ]
  },
  {
   "cell_type": "markdown",
   "metadata": {},
   "source": [
    "2. Drop features that more than 50% values are missing, including “weight”, which has 97% missing values, “payer_code”, which has 52% missing values, and “medical specialty”, which has 53% missing values."
   ]
  },
  {
   "cell_type": "code",
   "execution_count": 5,
   "metadata": {
    "ExecuteTime": {
     "end_time": "2019-06-18T10:42:41.260238Z",
     "start_time": "2019-06-18T10:42:41.163901Z"
    }
   },
   "outputs": [],
   "source": [
    "diabete.drop(['weight','payer_code','medical_specialty'],axis=1,inplace=True)"
   ]
  },
  {
   "cell_type": "markdown",
   "metadata": {},
   "source": [
    "3. Drop features that are unrelated to our target."
   ]
  },
  {
   "cell_type": "code",
   "execution_count": 6,
   "metadata": {
    "ExecuteTime": {
     "end_time": "2019-06-18T10:42:41.603671Z",
     "start_time": "2019-06-18T10:42:41.571762Z"
    }
   },
   "outputs": [],
   "source": [
    "diabete.drop(['encounter_id','patient_nbr'],axis=1,inplace=True)"
   ]
  },
  {
   "cell_type": "markdown",
   "metadata": {},
   "source": [
    "4. Handle with missing values : since missing values are not too many and only account for 3%, here I simply delete rows with missing values."
   ]
  },
  {
   "cell_type": "code",
   "execution_count": 7,
   "metadata": {
    "ExecuteTime": {
     "end_time": "2019-06-18T10:42:42.237056Z",
     "start_time": "2019-06-18T10:42:41.961420Z"
    }
   },
   "outputs": [],
   "source": [
    "diabete['race'].replace('?',np.nan,inplace=True)\n",
    "diabete['gender'].replace('Unknown/Invalid',np.nan,inplace=True)\n",
    "diabete['diag_3'].replace('?',np.nan,inplace=True)\n",
    "diabete.dropna(inplace=True)"
   ]
  },
  {
   "cell_type": "code",
   "execution_count": 8,
   "metadata": {
    "ExecuteTime": {
     "end_time": "2019-06-18T10:42:42.351107Z",
     "start_time": "2019-06-18T10:42:42.347951Z"
    }
   },
   "outputs": [],
   "source": [
    "diabete.reset_index(inplace=True,drop=True)"
   ]
  },
  {
   "cell_type": "markdown",
   "metadata": {},
   "source": [
    "## Label "
   ]
  },
  {
   "cell_type": "code",
   "execution_count": 9,
   "metadata": {
    "ExecuteTime": {
     "end_time": "2019-06-18T10:42:42.529158Z",
     "start_time": "2019-06-18T10:42:42.511258Z"
    }
   },
   "outputs": [
    {
     "data": {
      "text/plain": [
       "NO     52380\n",
       ">30    34681\n",
       "<30    11082\n",
       "Name: readmitted, dtype: int64"
      ]
     },
     "execution_count": 9,
     "metadata": {},
     "output_type": "execute_result"
    }
   ],
   "source": [
    "diabete['readmitted'].value_counts()"
   ]
  },
  {
   "cell_type": "markdown",
   "metadata": {},
   "source": [
    "\n",
    "Since our target is to predict the readmissions of diabetic patients, we care more about encounters that readmitted within 30 days than those readmitted more than 30 days or not readmitted.    \n",
    "Thus, if the value is ‘<30’, we label it as 1, otherwise (‘>30’ or ‘No’) we label it 0."
   ]
  },
  {
   "cell_type": "markdown",
   "metadata": {
    "ExecuteTime": {
     "end_time": "2019-06-20T06:40:29.476685Z",
     "start_time": "2019-06-20T06:40:29.472573Z"
    }
   },
   "source": [
    "$$\n",
    "Readmitted=\\begin{cases}\n",
    "1,&'<30' \\\\ 0,&otherwise\n",
    "\\end{cases}\n",
    "$$"
   ]
  },
  {
   "cell_type": "code",
   "execution_count": 10,
   "metadata": {
    "ExecuteTime": {
     "end_time": "2019-06-18T10:42:43.087041Z",
     "start_time": "2019-06-18T10:42:43.047770Z"
    }
   },
   "outputs": [],
   "source": [
    "diabete['readmitted']=np.where(diabete['readmitted']=='<30',1,0)"
   ]
  },
  {
   "cell_type": "code",
   "execution_count": 11,
   "metadata": {
    "ExecuteTime": {
     "end_time": "2019-06-18T10:42:43.224017Z",
     "start_time": "2019-06-18T10:42:43.214689Z"
    },
    "scrolled": true
   },
   "outputs": [
    {
     "data": {
      "text/plain": [
       "0    87061\n",
       "1    11082\n",
       "Name: readmitted, dtype: int64"
      ]
     },
     "execution_count": 11,
     "metadata": {},
     "output_type": "execute_result"
    }
   ],
   "source": [
    "diabete['readmitted'].value_counts()"
   ]
  },
  {
   "cell_type": "code",
   "execution_count": 101,
   "metadata": {
    "ExecuteTime": {
     "end_time": "2019-06-21T15:05:37.236448Z",
     "start_time": "2019-06-21T15:05:37.017178Z"
    }
   },
   "outputs": [
    {
     "data": {
      "text/plain": [
       "<matplotlib.axes._subplots.AxesSubplot at 0x28c64fe10>"
      ]
     },
     "execution_count": 101,
     "metadata": {},
     "output_type": "execute_result"
    },
    {
     "data": {
      "image/png": "[encoded data removed]",
      "text/plain": [
       "<Figure size 432x288 with 1 Axes>"
      ]
     },
     "metadata": {},
     "output_type": "display_data"
    }
   ],
   "source": [
    "sns.set(style=\"darkgrid\")\n",
    "sns.countplot(x='readmitted',data=diabete, palette=\"Set3\")"
   ]
  },
  {
   "cell_type": "markdown",
   "metadata": {
    "ExecuteTime": {
     "end_time": "2019-06-14T13:23:56.147768Z",
     "start_time": "2019-06-14T12:55:50.228Z"
    }
   },
   "source": [
    "Obviously, the data is extremely imbalanced."
   ]
  },
  {
   "cell_type": "markdown",
   "metadata": {
    "deletable": false,
    "editable": false,
    "heading_collapsed": true
   },
   "source": [
    "## Normalization"
   ]
  },
  {
   "cell_type": "markdown",
   "metadata": {
    "hidden": true
   },
   "source": [
    "Since there is no outliers, MinMaxScaler is used to shrink the range of the continuous data such that the range is fixed between 0 and 1."
   ]
  },
  {
   "cell_type": "code",
   "execution_count": 12,
   "metadata": {
    "ExecuteTime": {
     "end_time": "2019-06-18T10:42:44.313318Z",
     "start_time": "2019-06-18T10:42:44.151562Z"
    },
    "hidden": true
   },
   "outputs": [],
   "source": [
    "from sklearn.preprocessing import MinMaxScaler"
   ]
  },
  {
   "cell_type": "code",
   "execution_count": 13,
   "metadata": {
    "ExecuteTime": {
     "end_time": "2019-06-18T10:42:44.449195Z",
     "start_time": "2019-06-18T10:42:44.437470Z"
    },
    "hidden": true
   },
   "outputs": [],
   "source": [
    "#get numerical features\n",
    "diabete_num=diabete[['time_in_hospital','num_lab_procedures','num_procedures','num_medications','number_outpatient','number_emergency','number_inpatient','number_diagnoses']].values\n"
   ]
  },
  {
   "cell_type": "code",
   "execution_count": 14,
   "metadata": {
    "ExecuteTime": {
     "end_time": "2019-06-18T10:42:44.573654Z",
     "start_time": "2019-06-18T10:42:44.561257Z"
    },
    "hidden": true,
    "scrolled": false
   },
   "outputs": [
    {
     "data": {
      "text/plain": [
       "array([[0.15384615, 0.44274809, 0.        , ..., 0.        , 0.        ,\n",
       "        0.46153846],\n",
       "       [0.07692308, 0.07633588, 0.83333333, ..., 0.        , 0.04761905,\n",
       "        0.23076923],\n",
       "       [0.07692308, 0.32824427, 0.16666667, ..., 0.        , 0.        ,\n",
       "        0.30769231],\n",
       "       ...,\n",
       "       [0.        , 0.39694656, 0.        , ..., 0.        , 0.        ,\n",
       "        0.76923077],\n",
       "       [0.69230769, 0.33587786, 0.33333333, ..., 0.        , 0.04761905,\n",
       "        0.46153846],\n",
       "       [0.38461538, 0.09160305, 0.5       , ..., 0.        , 0.        ,\n",
       "        0.46153846]])"
      ]
     },
     "execution_count": 14,
     "metadata": {},
     "output_type": "execute_result"
    }
   ],
   "source": [
    "scaler=MinMaxScaler()\n",
    "diabete_num=scaler.fit_transform(diabete_num)\n",
    "diabete_num"
   ]
  },
  {
   "cell_type": "code",
   "execution_count": 15,
   "metadata": {
    "ExecuteTime": {
     "end_time": "2019-06-18T10:42:44.857553Z",
     "start_time": "2019-06-18T10:42:44.849838Z"
    },
    "hidden": true
   },
   "outputs": [],
   "source": [
    "diabete_num=pd.DataFrame(diabete_num)"
   ]
  },
  {
   "cell_type": "code",
   "execution_count": 16,
   "metadata": {
    "ExecuteTime": {
     "end_time": "2019-06-18T10:42:45.073824Z",
     "start_time": "2019-06-18T10:42:45.054329Z"
    },
    "hidden": true
   },
   "outputs": [],
   "source": [
    "diabete_minmax=diabete\n",
    "diabete_minmax[['time_in_hospital','num_lab_procedures','num_procedures','num_medications','number_outpatient','number_emergency','number_inpatient','number_diagnoses']]=diabete_num"
   ]
  },
  {
   "cell_type": "markdown",
   "metadata": {},
   "source": [
    "## Apply get_dummies to do one-hot encoding for categorical features"
   ]
  },
  {
   "cell_type": "markdown",
   "metadata": {},
   "source": [
    "One-Hot encoding is applied to convert categorically features into a form that can be provided to machine learning algorithms."
   ]
  },
  {
   "cell_type": "code",
   "execution_count": 17,
   "metadata": {
    "ExecuteTime": {
     "end_time": "2019-06-18T10:42:48.492645Z",
     "start_time": "2019-06-18T10:42:45.499200Z"
    },
    "scrolled": true
   },
   "outputs": [],
   "source": [
    "diabete_onehot=pd.get_dummies(diabete_minmax.iloc[:,0:-1])"
   ]
  },
  {
   "cell_type": "code",
   "execution_count": 18,
   "metadata": {
    "ExecuteTime": {
     "end_time": "2019-06-18T10:42:49.014322Z",
     "start_time": "2019-06-18T10:42:49.008520Z"
    },
    "scrolled": true
   },
   "outputs": [],
   "source": [
    "diabete_onehot['readmitted']=diabete_minmax['readmitted']"
   ]
  },
  {
   "cell_type": "code",
   "execution_count": 19,
   "metadata": {
    "ExecuteTime": {
     "end_time": "2019-06-18T10:42:49.892078Z",
     "start_time": "2019-06-18T10:42:49.483509Z"
    },
    "scrolled": false
   },
   "outputs": [
    {
     "name": "stdout",
     "output_type": "stream",
     "text": [
      "<class 'pandas.core.frame.DataFrame'>\n",
      "RangeIndex: 98143 entries, 0 to 98142\n",
      "Columns: 2400 entries, time_in_hospital to readmitted\n",
      "dtypes: float64(8), int64(1), uint8(2391)\n",
      "memory usage: 230.5 MB\n"
     ]
    }
   ],
   "source": [
    "diabete_onehot.info()"
   ]
  },
  {
   "cell_type": "markdown",
   "metadata": {},
   "source": [
    "After data pre-processing, the dataset now has two thousand and four hundreds columns."
   ]
  },
  {
   "cell_type": "markdown",
   "metadata": {},
   "source": [
    "# MODEL TRAINING"
   ]
  },
  {
   "cell_type": "markdown",
   "metadata": {},
   "source": [
    "Aiming to classify readmissions of diabetic patients, train-test-split is first used to divide data, and seventy-percent of the data is divided as training set and thirty testing set. Since the data is extremely imbalanced, the ratio of 1:0 is kept when split data into training set and testing set. Then several widely-used classification methods are applied in this research, including Logistic Regression (LR), Decision Tree (DT), Support Vector Classification (SVC), Naive Bayes (NB), K-Nearest Neighbour (KNN), Random Forest (RF), and Gradient Boosting Decision Tree (GBDT).  These models are first used to identify the patterns of readmissions of diabetic patients on training set based on features. The performance of all models is evaluated by predicting readmissions on testing set. To analyse the performance of the different models, multiple performance criteria are applied, including accuracy, precision, recall, and f1-score. Accuracy, precision represents the ability of a classifier not to label as positive a sample that is negative, recall represents the ability of a classifier to find all the positive samples, and f1-score can be interpreted as a weighted harmonic mean of the precision and recall.These measures are calculated as follows:\n",
    "$$Accuracy = \\frac{ TP+TN }{ TP+TN+FP+FN },$$\n",
    "$$Precision = \\frac{ TP }{ TP+FP },$$ \n",
    "$$Recall = \\frac{ TP }{ TP+FN },$$ \n",
    "$$F1-score = \\frac{ 2TP }{ 2TP+FP+FN },$$ \n",
    "where TP, FP, TN and FN are the number of true positives, false positives, true negatives and false negatives respectively."
   ]
  },
  {
   "cell_type": "markdown",
   "metadata": {},
   "source": [
    "LR is first used to fit the data and the results are not satisfying, with high accuracy score but low f1-score and precision score. Maybe this is because LR is not suitable for this dataset. So several other models are utilized. DT  still has relatively high accuracy and low f1-score and precision score. The f1-score and precision score of SVM is even zero. Naive Bayes even has low accuracy score. So as KNN, Random Forest and GBDT."
   ]
  },
  {
   "cell_type": "code",
   "execution_count": 20,
   "metadata": {
    "ExecuteTime": {
     "end_time": "2019-06-18T10:42:51.411892Z",
     "start_time": "2019-06-18T10:42:51.383385Z"
    }
   },
   "outputs": [],
   "source": [
    "from sklearn.model_selection import train_test_split"
   ]
  },
  {
   "cell_type": "markdown",
   "metadata": {},
   "source": [
    "## Divide training set and testing set"
   ]
  },
  {
   "cell_type": "code",
   "execution_count": 76,
   "metadata": {
    "ExecuteTime": {
     "end_time": "2019-06-21T13:02:06.747648Z",
     "start_time": "2019-06-21T13:02:06.649280Z"
    },
    "scrolled": true
   },
   "outputs": [
    {
     "data": {
      "text/plain": [
       "0    0.887083\n",
       "1    0.112917\n",
       "Name: readmitted, dtype: float64"
      ]
     },
     "execution_count": 76,
     "metadata": {},
     "output_type": "execute_result"
    }
   ],
   "source": [
    "diabete_onehot['readmitted'].value_counts()/len(diabete_onehot)"
   ]
  },
  {
   "cell_type": "markdown",
   "metadata": {
    "deletable": false,
    "editable": false
   },
   "source": [
    "<font size=3>Since the data is extremely imbalanced, we keep the ratio(87061:11082) when split it in training set and testing set.</font>"
   ]
  },
  {
   "cell_type": "code",
   "execution_count": 77,
   "metadata": {
    "ExecuteTime": {
     "end_time": "2019-06-21T13:02:13.893300Z",
     "start_time": "2019-06-21T13:02:10.692569Z"
    }
   },
   "outputs": [],
   "source": [
    "diabete_onehot_1_x=diabete_onehot[diabete_onehot['readmitted']==1].iloc[:,0:-1].values\n",
    "diabete_onehot_1_y=diabete_onehot[diabete_onehot['readmitted']==1].iloc[:,-1].values\n",
    "diabete_onehot_0_x=diabete_onehot[diabete_onehot['readmitted']==0].iloc[:,0:-1].values\n",
    "diabete_onehot_0_y=diabete_onehot[diabete_onehot['readmitted']==0].iloc[:,-1].values"
   ]
  },
  {
   "cell_type": "code",
   "execution_count": 78,
   "metadata": {
    "ExecuteTime": {
     "end_time": "2019-06-21T13:02:28.706265Z",
     "start_time": "2019-06-21T13:02:14.597705Z"
    }
   },
   "outputs": [],
   "source": [
    "diabete_onehot_1_xtrain,diabete_onehot_1_xtest,diabete_onehot_1_ytrain,diabete_onehot_1_ytest=train_test_split(diabete_onehot_1_x,diabete_onehot_1_y,test_size=0.3,random_state=42)\n",
    "diabete_onehot_0_xtrain,diabete_onehot_0_xtest,diabete_onehot_0_ytrain,diabete_onehot_0_ytest=train_test_split(diabete_onehot_0_x,diabete_onehot_0_y,test_size=0.3,random_state=42)\n"
   ]
  },
  {
   "cell_type": "code",
   "execution_count": 79,
   "metadata": {
    "ExecuteTime": {
     "end_time": "2019-06-21T13:02:32.424828Z",
     "start_time": "2019-06-21T13:02:29.363229Z"
    }
   },
   "outputs": [],
   "source": [
    "diabete_oh_xtrain=np.concatenate((diabete_onehot_1_xtrain,diabete_onehot_0_xtrain),axis=0)\n",
    "diabete_oh_xtest=np.concatenate((diabete_onehot_1_xtest,diabete_onehot_0_xtest),axis=0)\n",
    "diabete_oh_ytrain=np.concatenate((diabete_onehot_1_ytrain,diabete_onehot_0_ytrain),axis=0)\n",
    "diabete_oh_ytest=np.concatenate((diabete_onehot_1_ytest,diabete_onehot_0_ytest),axis=0)"
   ]
  },
  {
   "cell_type": "markdown",
   "metadata": {
    "deletable": false,
    "editable": false,
    "run_control": {
     "frozen": true
    }
   },
   "source": [
    "## Logistic Regression"
   ]
  },
  {
   "cell_type": "markdown",
   "metadata": {},
   "source": [
    "LR is a reasonably interpretable tool in multiple fields and is easy to implement with all kinds of programming languages. As a regression method to predict a dichotomous dependent variable, the maximum-likelihood ratio is used to determine the statistical significance of the variables in producing the LR equation[45].LR is usually formulated mathematically as:\n",
    "$$P(Y \\mid X) = \\frac{ 1 }{ 1+e^{-f(x)}}$$,\n",
    "where X is an input matrix containing all observations and features, Y is an matrix that contains discrete and binary variables, such that y∈{0,1}(y∈Y), and f(x) is a function consisting features and their corresponding weights that equals:\n",
    "$$f(x)=x_0+\\beta_1x_1x_0,+\\beta_2x_2+...+\\beta_nx_n+\\epsilon$$,where $x_0,x_1,...,x_n$ represent all features, $\\beta_i$ represent corresponding weights for each features, and $\\epsilon$ represents the random error process inevitably happening in the data generating process.Generally speaking, LR is well-suited for describing and testing hypotheses about relationships between a categorical outcome variable and one or more categorical or continuous variables[16]."
   ]
  },
  {
   "cell_type": "code",
   "execution_count": 21,
   "metadata": {
    "ExecuteTime": {
     "end_time": "2019-06-18T10:42:55.087373Z",
     "start_time": "2019-06-18T10:42:55.049741Z"
    }
   },
   "outputs": [],
   "source": [
    "from sklearn.linear_model import LogisticRegression\n",
    "from sklearn.metrics import accuracy_score,f1_score,recall_score,confusion_matrix,classification_report,precision_score"
   ]
  },
  {
   "cell_type": "code",
   "execution_count": 81,
   "metadata": {
    "ExecuteTime": {
     "end_time": "2019-06-21T13:02:56.260807Z",
     "start_time": "2019-06-21T13:02:52.035436Z"
    },
    "scrolled": true
   },
   "outputs": [
    {
     "name": "stderr",
     "output_type": "stream",
     "text": [
      "/usr/local/lib/python3.7/site-packages/sklearn/linear_model/logistic.py:432: FutureWarning: Default solver will be changed to 'lbfgs' in 0.22. Specify a solver to silence this warning.\n",
      "  FutureWarning)\n"
     ]
    },
    {
     "name": "stdout",
     "output_type": "stream",
     "text": [
      "confusion matrix: [[26035    84]\n",
      " [ 3245    80]]\n",
      "classification_report:               precision    recall  f1-score   support\n",
      "\n",
      "           0       0.89      1.00      0.94     26119\n",
      "           1       0.49      0.02      0.05      3325\n",
      "\n",
      "    accuracy                           0.89     29444\n",
      "   macro avg       0.69      0.51      0.49     29444\n",
      "weighted avg       0.84      0.89      0.84     29444\n",
      "\n",
      "accuracy_score: 0.8869379160440157\n",
      "precision_score: 0.4878048780487805\n",
      "recall_score: 0.02406015037593985\n",
      "f1_score: 0.04585841215247922\n"
     ]
    }
   ],
   "source": [
    "lg=LogisticRegression()\n",
    "lg.fit(diabete_oh_xtrain,diabete_oh_ytrain)\n",
    "diabete_oh_ypred_lg=lg.predict(diabete_oh_xtest)\n",
    "print('confusion matrix:',confusion_matrix(diabete_oh_ytest,diabete_oh_ypred_lg))\n",
    "print('classification_report:',classification_report(diabete_oh_ytest,diabete_oh_ypred_lg))\n",
    "\n",
    "print('accuracy_score:',accuracy_score(diabete_oh_ytest,diabete_oh_ypred_lg))\n",
    "print('precision_score:',precision_score(diabete_oh_ytest,diabete_oh_ypred_lg))\n",
    "print('recall_score:',recall_score(diabete_oh_ytest,diabete_oh_ypred_lg))\n",
    "print('f1_score:',f1_score(diabete_oh_ytest,diabete_oh_ypred_lg))"
   ]
  },
  {
   "cell_type": "markdown",
   "metadata": {},
   "source": [
    "## Decision Tree"
   ]
  },
  {
   "cell_type": "markdown",
   "metadata": {},
   "source": [
    "DT is a non-parametric supervised decision support tool that uses a tree-like graph or model to predicts the value of a target variable by learning simple decision rules of features[17]. Giving training vectors $x_i∈R^n,(i=1,...,I)$ and a label vector $y∈R^l$, a decision tree recursively partitions the space such that the samples with the same labels are grouped together. Let the data at node m be represented by Q. For each candidate split $\\theta=(j,t_m)$ consisting of a feature j and threshold $t_m$, partition the data into $Q_l(\\theta)$ and $Q_r(\\theta)$ subsets:\n",
    "$$Q_l(\\theta)=(x,y)\\mid x_j\\leqslant t_m,$$\n",
    "$$Q_r(\\theta)=\\frac { Q }{ Q_l(\\theta)}.$$\n",
    "The impurity at m is computed using an impurity function $H()$, the choice of which depends on the task being solved (classification or regression). \n",
    "$$G(Q,\\theta)=\\frac { n_l }{ N_m } H(Q_l(\\theta))+ \\frac { n_r }{ N_m } H(Q_r(\\theta))$$\n",
    "Then select parameters that minimizes the impurity:\n",
    "$$\\theta^*=argmax_\\theta G(Q,\\theta),$$\n",
    "and recurse of subsets $Q_l(\\theta^*)$ and $Q_r(\\theta^*)$ until the maximum allowable depth is reached.  \n",
    "DT is a proper method for predicting readmissions of diabetic patients because it uses a white box model, which demonstrates that if a given situation is observable, the explanation for the condition is easily explained by Boolean logic."
   ]
  },
  {
   "cell_type": "code",
   "execution_count": 22,
   "metadata": {
    "ExecuteTime": {
     "end_time": "2019-06-18T10:42:59.869376Z",
     "start_time": "2019-06-18T10:42:59.828433Z"
    }
   },
   "outputs": [],
   "source": [
    "from sklearn.tree import DecisionTreeClassifier\n",
    "from sklearn.model_selection import GridSearchCV"
   ]
  },
  {
   "cell_type": "code",
   "execution_count": 82,
   "metadata": {
    "ExecuteTime": {
     "end_time": "2019-06-21T13:05:46.284980Z",
     "start_time": "2019-06-21T13:03:46.064936Z"
    },
    "scrolled": true
   },
   "outputs": [
    {
     "name": "stdout",
     "output_type": "stream",
     "text": [
      "confusion matrix: [[23572  2547]\n",
      " [ 2782   543]]\n",
      "classification_report:               precision    recall  f1-score   support\n",
      "\n",
      "           0       0.89      0.90      0.90     26119\n",
      "           1       0.18      0.16      0.17      3325\n",
      "\n",
      "    accuracy                           0.82     29444\n",
      "   macro avg       0.54      0.53      0.53     29444\n",
      "weighted avg       0.81      0.82      0.82     29444\n",
      "\n",
      "accuracy_score: 0.8190123624507539\n",
      "precision_score: 0.17572815533980582\n",
      "recall_score: 0.16330827067669174\n",
      "f1_score: 0.16929072486360094\n"
     ]
    }
   ],
   "source": [
    "dt=DecisionTreeClassifier()\n",
    "dt.fit(diabete_oh_xtrain,diabete_oh_ytrain)\n",
    "diabete_oh_ypred_dt=dt.predict(diabete_oh_xtest)\n",
    "print('confusion matrix:',confusion_matrix(diabete_oh_ytest,diabete_oh_ypred_dt))\n",
    "print('classification_report:',classification_report(diabete_oh_ytest,diabete_oh_ypred_dt))\n",
    "print('accuracy_score:',accuracy_score(diabete_oh_ytest,diabete_oh_ypred_dt))\n",
    "print('precision_score:',precision_score(diabete_oh_ytest,diabete_oh_ypred_dt))\n",
    "print('recall_score:',recall_score(diabete_oh_ytest,diabete_oh_ypred_dt))\n",
    "print('f1_score:',f1_score(diabete_oh_ytest,diabete_oh_ypred_dt))"
   ]
  },
  {
   "cell_type": "markdown",
   "metadata": {
    "deletable": false,
    "editable": false,
    "run_control": {
     "frozen": true
    }
   },
   "source": [
    "## SVM"
   ]
  },
  {
   "cell_type": "markdown",
   "metadata": {},
   "source": [
    "SVC is one of the SVM methods that could be use to perform classification tasks. The objective of SVM is to find a hyperplane that has the largest distance to the nearest training data points of any class in an N-dimensional space that distinctly classifies the data points, where N is the number of features. Because SVC is effective in high dimensional spaces and it can capture much more complex relationships between features by using different kernel functions, they have received considerable research interest in classification over the past years[14]."
   ]
  },
  {
   "cell_type": "code",
   "execution_count": 90,
   "metadata": {
    "ExecuteTime": {
     "end_time": "2019-06-21T13:13:16.772337Z",
     "start_time": "2019-06-21T13:13:16.769224Z"
    }
   },
   "outputs": [],
   "source": [
    "from sklearn.svm import SVC\n",
    "from sklearn.utils import shuffle"
   ]
  },
  {
   "cell_type": "code",
   "execution_count": 91,
   "metadata": {
    "ExecuteTime": {
     "end_time": "2019-06-21T13:13:19.134523Z",
     "start_time": "2019-06-21T13:13:17.391975Z"
    }
   },
   "outputs": [],
   "source": [
    "diabete_oh_xtrain=shuffle(diabete_oh_xtrain)\n",
    "diabete_oh_xtest=shuffle(diabete_oh_xtest)\n",
    "diabete_oh_ytrain=shuffle(diabete_oh_ytrain)\n",
    "diabete_oh_ytest=shuffle(diabete_oh_ytest)"
   ]
  },
  {
   "cell_type": "code",
   "execution_count": 92,
   "metadata": {
    "ExecuteTime": {
     "end_time": "2019-06-21T13:13:24.938038Z",
     "start_time": "2019-06-21T13:13:24.934541Z"
    }
   },
   "outputs": [],
   "source": [
    "x_svm_train=diabete_oh_xtrain[0:7000]\n",
    "x_svm_test=diabete_oh_xtest[0:3000]\n",
    "y_svm_train=diabete_oh_ytrain[0:7000]\n",
    "y_svm_test=diabete_oh_ytest[0:3000]"
   ]
  },
  {
   "cell_type": "code",
   "execution_count": 94,
   "metadata": {
    "ExecuteTime": {
     "end_time": "2019-06-21T13:42:28.790317Z",
     "start_time": "2019-06-21T13:41:30.002337Z"
    },
    "scrolled": true
   },
   "outputs": [
    {
     "name": "stderr",
     "output_type": "stream",
     "text": [
      "/usr/local/lib/python3.7/site-packages/sklearn/svm/base.py:193: FutureWarning: The default value of gamma will change from 'auto' to 'scale' in version 0.22 to account better for unscaled features. Set gamma explicitly to 'auto' or 'scale' to avoid this warning.\n",
      "  \"avoid this warning.\", FutureWarning)\n"
     ]
    },
    {
     "name": "stdout",
     "output_type": "stream",
     "text": [
      "confusion matrix: [[2658    0]\n",
      " [ 342    0]]\n",
      "classification_report:               precision    recall  f1-score   support\n",
      "\n",
      "           0       0.89      1.00      0.94      2658\n",
      "           1       0.00      0.00      0.00       342\n",
      "\n",
      "    accuracy                           0.89      3000\n",
      "   macro avg       0.44      0.50      0.47      3000\n",
      "weighted avg       0.78      0.89      0.83      3000\n",
      "\n",
      "accuracy_score: 0.886\n",
      "precision_score: 0.0\n",
      "recall_score: 0.0\n",
      "f1_score: 0.0\n"
     ]
    },
    {
     "name": "stderr",
     "output_type": "stream",
     "text": [
      "/usr/local/lib/python3.7/site-packages/sklearn/metrics/classification.py:1437: UndefinedMetricWarning: Precision and F-score are ill-defined and being set to 0.0 in labels with no predicted samples.\n",
      "  'precision', 'predicted', average, warn_for)\n",
      "/usr/local/lib/python3.7/site-packages/sklearn/metrics/classification.py:1437: UndefinedMetricWarning: Precision is ill-defined and being set to 0.0 due to no predicted samples.\n",
      "  'precision', 'predicted', average, warn_for)\n",
      "/usr/local/lib/python3.7/site-packages/sklearn/metrics/classification.py:1437: UndefinedMetricWarning: F-score is ill-defined and being set to 0.0 due to no predicted samples.\n",
      "  'precision', 'predicted', average, warn_for)\n"
     ]
    }
   ],
   "source": [
    "v=SVC()\n",
    "v.fit(x_svm_train,y_svm_train)\n",
    "diabete_oh_ypred_v=v.predict(x_svm_test)\n",
    "print('confusion matrix:',confusion_matrix(y_svm_test,diabete_oh_ypred_v))\n",
    "print('classification_report:',classification_report(y_svm_test,diabete_oh_ypred_v))\n",
    "print('accuracy_score:',accuracy_score(y_svm_test,diabete_oh_ypred_v))\n",
    "print('precision_score:',precision_score(y_svm_test,diabete_oh_ypred_v))\n",
    "print('recall_score:',recall_score(y_svm_test,diabete_oh_ypred_v))\n",
    "print('f1_score:',f1_score(y_svm_test,diabete_oh_ypred_v))"
   ]
  },
  {
   "cell_type": "markdown",
   "metadata": {},
   "source": [
    "## Naive Bayes"
   ]
  },
  {
   "cell_type": "markdown",
   "metadata": {},
   "source": [
    "NB is a supervised learning model based on applying Bayes’s theorem with the “naive” assumption that every pair of features is independent. Bayes’s theorem states the following relationship:\n",
    "$$P(y \\mid x_1,x_2,...,x_n) = \\frac{ P(x_1,x_2,...,x_n \\mid y) P(y) }{ P(x_1,x_2,...,x_n) },$$\n",
    "where $y$  is class variable and are $x_1,x_2,...,x_n$ are dependent feature vectors. After adding the \"naive\" assumption, this relationship equals:\n",
    "$$P(y \\mid x_1,x_2,...,x_n) = \\frac{ P(y) \\prod_{i=1}^{n}P(x_i \\mid y) }{ P(x_1,x_2,...,x_n) }.$$\n",
    "Since $P(x_1,x_2,...,x_n) $ is constant given the input, the following classification rule is used:\n",
    "$$P(x_1,x_2,...,x_n) \\varpropto P(y)\\prod_{i=1}^{n}P(x_i \\mid y),$$\n",
    "$$\\hat y=argmax_yP(y)\\prod_{i=1}^{n}P(x_i \\mid y),$$\n",
    "and Maximum A Posteriori (MAP) estimation can be applied to estimate $P(y)$ and $P(x_i \\mid y)$. \n",
    "Despite the apparently over-simplified assumptions, NB has worked quite well in many real-world applications and is well known for its computational efficient and ability to handle missing data naturally and efficiently."
   ]
  },
  {
   "cell_type": "markdown",
   "metadata": {
    "ExecuteTime": {
     "end_time": "2019-06-20T06:17:38.545909Z",
     "start_time": "2019-06-20T06:17:38.539364Z"
    }
   },
   "source": [
    "$$P(A \\mid B) = \\frac{ P(B \\mid A) P(A) }{ P(B) }$$"
   ]
  },
  {
   "cell_type": "code",
   "execution_count": 24,
   "metadata": {
    "ExecuteTime": {
     "end_time": "2019-06-18T10:43:07.450215Z",
     "start_time": "2019-06-18T10:43:07.441056Z"
    }
   },
   "outputs": [],
   "source": [
    "from sklearn.naive_bayes import GaussianNB"
   ]
  },
  {
   "cell_type": "code",
   "execution_count": 95,
   "metadata": {
    "ExecuteTime": {
     "end_time": "2019-06-21T13:43:20.828490Z",
     "start_time": "2019-06-21T13:43:08.565987Z"
    }
   },
   "outputs": [
    {
     "name": "stdout",
     "output_type": "stream",
     "text": [
      "confusion matrix: [[ 1124 24995]\n",
      " [  153  3172]]\n",
      "classification_report:               precision    recall  f1-score   support\n",
      "\n",
      "           0       0.88      0.04      0.08     26119\n",
      "           1       0.11      0.95      0.20      3325\n",
      "\n",
      "    accuracy                           0.15     29444\n",
      "   macro avg       0.50      0.50      0.14     29444\n",
      "weighted avg       0.79      0.15      0.10     29444\n",
      "\n",
      "accuracy_score: 0.1459040891183263\n",
      "precision_score: 0.11261405190471119\n",
      "recall_score: 0.953984962406015\n",
      "f1_score: 0.20144798679029596\n"
     ]
    }
   ],
   "source": [
    "nb=GaussianNB()\n",
    "nb.fit(diabete_oh_xtrain,diabete_oh_ytrain)\n",
    "diabete_oh_ypred_nb=nb.predict(diabete_oh_xtest)\n",
    "print('confusion matrix:',confusion_matrix(diabete_oh_ytest,diabete_oh_ypred_nb))\n",
    "print('classification_report:',classification_report(diabete_oh_ytest,diabete_oh_ypred_nb))\n",
    "print('accuracy_score:',accuracy_score(diabete_oh_ytest,diabete_oh_ypred_nb))\n",
    "print('precision_score:',precision_score(diabete_oh_ytest,diabete_oh_ypred_nb))\n",
    "print('recall_score:',recall_score(diabete_oh_ytest,diabete_oh_ypred_nb))\n",
    "print('f1_score:',f1_score(diabete_oh_ytest,diabete_oh_ypred_nb))"
   ]
  },
  {
   "cell_type": "markdown",
   "metadata": {},
   "source": [
    "## KNN"
   ]
  },
  {
   "cell_type": "markdown",
   "metadata": {},
   "source": [
    "KNN is an instance-based classifier method. The advantage that k-nearest neighbours have over other algorithms is the fact that the neighbours can provide an explanation for the classification result; this case-based explanation can provide an advantage in areas where black-box models are inadequate[18]."
   ]
  },
  {
   "cell_type": "code",
   "execution_count": 25,
   "metadata": {
    "ExecuteTime": {
     "end_time": "2019-06-18T10:43:11.247219Z",
     "start_time": "2019-06-18T10:43:11.244266Z"
    }
   },
   "outputs": [],
   "source": [
    "from sklearn.neighbors import KNeighborsClassifier"
   ]
  },
  {
   "cell_type": "code",
   "execution_count": 43,
   "metadata": {
    "ExecuteTime": {
     "end_time": "2019-06-14T16:19:07.639449Z",
     "start_time": "2019-06-14T16:19:07.537957Z"
    }
   },
   "outputs": [
    {
     "name": "stdout",
     "output_type": "stream",
     "text": [
      "confusion matrix: [[25715   404]\n",
      " [ 3204   121]]\n",
      "classification_report:               precision    recall  f1-score   support\n",
      "\n",
      "           0       0.89      0.98      0.93     26119\n",
      "           1       0.23      0.04      0.06      3325\n",
      "\n",
      "    accuracy                           0.88     29444\n",
      "   macro avg       0.56      0.51      0.50     29444\n",
      "weighted avg       0.81      0.88      0.84     29444\n",
      "\n",
      "accuracy_score: 0.8774623013177557\n",
      "precision_score: 0.23047619047619047\n",
      "recall_score: 0.03639097744360902\n",
      "f1-score: 0.03639097744360902\n"
     ]
    }
   ],
   "source": [
    "knn=KNeighborsClassifier()\n",
    "knn.fit(diabete_oh_xtrain,diabete_oh_ytrain)\n",
    "diabete_oh_ypred_knn=knn.predict(diabete_oh_xtest)\n",
    "print('confusion matrix:',confusion_matrix(diabete_oh_ytest,diabete_oh_ypred_knn))\n",
    "print('classification_report:',classification_report(diabete_oh_ytest,diabete_oh_ypred_knn))\n",
    "print('accuracy_score:',accuracy_score(diabete_oh_ytest,diabete_oh_ypred_knn))\n",
    "print('precision_score:',precision_score(diabete_oh_ytest,diabete_oh_ypred_knn))\n",
    "print('recall_score:',recall_score(diabete_oh_ytest,diabete_oh_ypred_knn))\n",
    "print('f1-score:',recall_score(diabete_oh_ytest,diabete_oh_ypred_knn))"
   ]
  },
  {
   "cell_type": "markdown",
   "metadata": {},
   "source": [
    "## Random Forest"
   ]
  },
  {
   "cell_type": "markdown",
   "metadata": {
    "ExecuteTime": {
     "start_time": "2019-06-14T11:25:25.079Z"
    }
   },
   "source": [
    "Random Forest consist of a set of decision trees, each of which acts as a weak classifier and is trained independently. By pooling the responses from multiple decision trees, a strong classifier with higher predictive accuracy is formed and the class of an input is determined."
   ]
  },
  {
   "cell_type": "code",
   "execution_count": 26,
   "metadata": {
    "ExecuteTime": {
     "end_time": "2019-06-18T10:43:14.479350Z",
     "start_time": "2019-06-18T10:43:14.457479Z"
    }
   },
   "outputs": [],
   "source": [
    "from sklearn.ensemble import RandomForestClassifier"
   ]
  },
  {
   "cell_type": "code",
   "execution_count": 96,
   "metadata": {
    "ExecuteTime": {
     "end_time": "2019-06-21T13:44:22.851829Z",
     "start_time": "2019-06-21T13:43:27.984013Z"
    }
   },
   "outputs": [
    {
     "name": "stderr",
     "output_type": "stream",
     "text": [
      "/usr/local/lib/python3.7/site-packages/sklearn/ensemble/forest.py:245: FutureWarning: The default value of n_estimators will change from 10 in version 0.20 to 100 in 0.22.\n",
      "  \"10 in version 0.20 to 100 in 0.22.\", FutureWarning)\n"
     ]
    },
    {
     "name": "stdout",
     "output_type": "stream",
     "text": [
      "confusion matrix: [[26088    31]\n",
      " [ 3320     5]]\n",
      "classification_report:               precision    recall  f1-score   support\n",
      "\n",
      "           0       0.89      1.00      0.94     26119\n",
      "           1       0.14      0.00      0.00      3325\n",
      "\n",
      "    accuracy                           0.89     29444\n",
      "   macro avg       0.51      0.50      0.47     29444\n",
      "weighted avg       0.80      0.89      0.83     29444\n",
      "\n",
      "accuracy_score: 0.8861907349544899\n",
      "precision_score: 0.1388888888888889\n",
      "recall_score: 0.0015037593984962407\n",
      "f1_score: 0.0029753049687592983\n"
     ]
    }
   ],
   "source": [
    "rf=RandomForestClassifier()\n",
    "rf.fit(diabete_oh_xtrain,diabete_oh_ytrain)\n",
    "diabete_oh_ypred_rf=rf.predict(diabete_oh_xtest)\n",
    "print('confusion matrix:',confusion_matrix(diabete_oh_ytest,diabete_oh_ypred_rf))\n",
    "print('classification_report:',classification_report(diabete_oh_ytest,diabete_oh_ypred_rf))\n",
    "\n",
    "print('accuracy_score:',accuracy_score(diabete_oh_ytest,diabete_oh_ypred_rf))\n",
    "print('precision_score:',precision_score(diabete_oh_ytest,diabete_oh_ypred_rf))\n",
    "print('recall_score:',recall_score(diabete_oh_ytest,diabete_oh_ypred_rf))\n",
    "print('f1_score:',f1_score(diabete_oh_ytest,diabete_oh_ypred_rf))"
   ]
  },
  {
   "cell_type": "markdown",
   "metadata": {},
   "source": [
    "## GBDT"
   ]
  },
  {
   "cell_type": "markdown",
   "metadata": {
    "ExecuteTime": {
     "start_time": "2019-06-14T11:31:56.350Z"
    }
   },
   "source": [
    "GBDT is a predictive model in the form of an ensemble of decision trees and affords strong predictive power with a differentiable loss function[13]. It is a powerful classification technique applied in a wide range of fields due to its high accuracy, fast training and prediction time and small memory footprint."
   ]
  },
  {
   "cell_type": "code",
   "execution_count": 27,
   "metadata": {
    "ExecuteTime": {
     "end_time": "2019-06-18T10:43:18.506458Z",
     "start_time": "2019-06-18T10:43:18.503543Z"
    }
   },
   "outputs": [],
   "source": [
    "from sklearn.ensemble import GradientBoostingClassifier"
   ]
  },
  {
   "cell_type": "code",
   "execution_count": 100,
   "metadata": {
    "ExecuteTime": {
     "end_time": "2019-06-21T14:53:35.826917Z",
     "start_time": "2019-06-21T14:36:11.323660Z"
    },
    "scrolled": false
   },
   "outputs": [
    {
     "name": "stdout",
     "output_type": "stream",
     "text": [
      "confusion matrix: [[26114     5]\n",
      " [ 3325     0]]\n",
      "classification_report:               precision    recall  f1-score   support\n",
      "\n",
      "           0       0.89      1.00      0.94     26119\n",
      "           1       0.00      0.00      0.00      3325\n",
      "\n",
      "    accuracy                           0.89     29444\n",
      "   macro avg       0.44      0.50      0.47     29444\n",
      "weighted avg       0.79      0.89      0.83     29444\n",
      "\n",
      "accuracy_score: 0.8869039532672192\n",
      "precision_score: 0.0\n",
      "recall_score: 0.0\n",
      "f1_score: 0.0\n"
     ]
    }
   ],
   "source": [
    "gbdt=GradientBoostingClassifier()\n",
    "gbdt.fit(diabete_oh_xtrain,diabete_oh_ytrain)\n",
    "diabete_oh_ypred_gbdt=gbdt.predict(diabete_oh_xtest)\n",
    "print('confusion matrix:',confusion_matrix(diabete_oh_ytest,diabete_oh_ypred_gbdt))\n",
    "print('classification_report:',classification_report(diabete_oh_ytest,diabete_oh_ypred_gbdt))\n",
    "\n",
    "print('accuracy_score:',accuracy_score(diabete_oh_ytest,diabete_oh_ypred_gbdt))\n",
    "print('precision_score:',precision_score(diabete_oh_ytest,diabete_oh_ypred_gbdt))\n",
    "print('recall_score:',recall_score(diabete_oh_ytest,diabete_oh_ypred_gbdt))\n",
    "print('f1_score:',f1_score(diabete_oh_ytest,diabete_oh_ypred_gbdt))"
   ]
  },
  {
   "cell_type": "markdown",
   "metadata": {},
   "source": [
    "# REBALANCED DATA"
   ]
  },
  {
   "cell_type": "markdown",
   "metadata": {},
   "source": [
    "## Rebalance Data"
   ]
  },
  {
   "cell_type": "markdown",
   "metadata": {},
   "source": [
    "These models all perform badly. So I suppose it is because the data is extremely imbalanced, with only 11,082 (11.3%) encounters are labelled as 1. In order to balance the data, a method called Borderline-SMOTE is used. "
   ]
  },
  {
   "cell_type": "markdown",
   "metadata": {
    "ExecuteTime": {
     "end_time": "2019-06-14T15:45:00.092007Z",
     "start_time": "2019-06-14T14:56:26.791Z"
    }
   },
   "source": [
    "Source code: https://imbalanced-learn.readthedocs.io/en/stable/over_sampling.html#smote-adasyn"
   ]
  },
  {
   "cell_type": "markdown",
   "metadata": {},
   "source": [
    "Based on SMOTE, Borderline-SMOTE is a minority over-sampling method, which only over-samples the minority examples near the borderline since the borderline examples of the minority class are more easily misclassified than ones far from the borderline."
   ]
  },
  {
   "cell_type": "markdown",
   "metadata": {},
   "source": [
    "After resampling the data, the number of encounters labelled as 1 is 87,061, which is the same as number of encounters labelled as 0. Hence the data is balanced."
   ]
  },
  {
   "cell_type": "code",
   "execution_count": 28,
   "metadata": {
    "ExecuteTime": {
     "end_time": "2019-06-18T10:43:23.675823Z",
     "start_time": "2019-06-18T10:43:22.179113Z"
    }
   },
   "outputs": [],
   "source": [
    "x=diabete_onehot.iloc[:,0:-1].values\n",
    "y=diabete_onehot.iloc[:,-1].values"
   ]
  },
  {
   "cell_type": "code",
   "execution_count": 29,
   "metadata": {
    "ExecuteTime": {
     "end_time": "2019-06-18T11:48:12.079561Z",
     "start_time": "2019-06-18T10:43:24.083126Z"
    }
   },
   "outputs": [
    {
     "name": "stderr",
     "output_type": "stream",
     "text": [
      "/usr/local/lib/python3.7/site-packages/sklearn/externals/six.py:31: DeprecationWarning: The module is deprecated in version 0.21 and will be removed in version 0.23 since we've dropped support for Python 2.7. Please rely on the official version of six (https://pypi.org/project/six/).\n",
      "  \"(https://pypi.org/project/six/).\", DeprecationWarning)\n"
     ]
    },
    {
     "name": "stdout",
     "output_type": "stream",
     "text": [
      "[(0, 87061), (1, 87061)]\n"
     ]
    }
   ],
   "source": [
    "from imblearn.over_sampling import BorderlineSMOTE\n",
    "from collections import Counter\n",
    "X_resampled, y_resampled = BorderlineSMOTE().fit_resample(x, y)\n",
    "print(sorted(Counter(y_resampled).items()))"
   ]
  },
  {
   "cell_type": "code",
   "execution_count": 30,
   "metadata": {
    "ExecuteTime": {
     "end_time": "2019-06-18T12:00:41.515071Z",
     "start_time": "2019-06-18T12:00:35.941259Z"
    }
   },
   "outputs": [],
   "source": [
    "x_train,x_test,y_train,y_test=train_test_split(X_resampled,y_resampled,test_size=0.3,random_state=42)"
   ]
  },
  {
   "cell_type": "code",
   "execution_count": 31,
   "metadata": {
    "ExecuteTime": {
     "end_time": "2019-06-18T12:00:42.064639Z",
     "start_time": "2019-06-18T12:00:42.058883Z"
    }
   },
   "outputs": [
    {
     "name": "stdout",
     "output_type": "stream",
     "text": [
      "training set size: (121885, 2399)\n",
      "testing set size: (52237, 2399)\n"
     ]
    }
   ],
   "source": [
    "print('training set size:',x_train.shape)\n",
    "print('testing set size:',x_test.shape)"
   ]
  },
  {
   "cell_type": "markdown",
   "metadata": {},
   "source": [
    "## Logistic Regression"
   ]
  },
  {
   "cell_type": "code",
   "execution_count": 32,
   "metadata": {
    "ExecuteTime": {
     "end_time": "2019-06-18T12:01:25.536884Z",
     "start_time": "2019-06-18T12:01:09.916874Z"
    },
    "scrolled": false
   },
   "outputs": [
    {
     "name": "stderr",
     "output_type": "stream",
     "text": [
      "/usr/local/lib/python3.7/site-packages/sklearn/linear_model/logistic.py:432: FutureWarning: Default solver will be changed to 'lbfgs' in 0.22. Specify a solver to silence this warning.\n",
      "  FutureWarning)\n"
     ]
    },
    {
     "name": "stdout",
     "output_type": "stream",
     "text": [
      "confusion matrix: [[18219  7914]\n",
      " [ 7877 18227]]\n",
      "accuracy_score: 0.6977046920764975\n",
      "classification_report:               precision    recall  f1-score   support\n",
      "\n",
      "           0       0.70      0.70      0.70     26133\n",
      "           1       0.70      0.70      0.70     26104\n",
      "\n",
      "    accuracy                           0.70     52237\n",
      "   macro avg       0.70      0.70      0.70     52237\n",
      "weighted avg       0.70      0.70      0.70     52237\n",
      "\n",
      "f1_score: 0.6977509809551153\n",
      "recall_score: 0.6982454796199816\n",
      "precision_score: 0.6972571822042003\n"
     ]
    }
   ],
   "source": [
    "lg=LogisticRegression()\n",
    "lg.fit(x_train,y_train)\n",
    "y_pred=lg.predict(x_test)\n",
    "print('confusion matrix:',confusion_matrix(y_test,y_pred))\n",
    "print('accuracy_score:',accuracy_score(y_test,y_pred))\n",
    "print('classification_report:',classification_report(y_test,y_pred))\n",
    "print('f1_score:',f1_score(y_test,y_pred))\n",
    "print('recall_score:',recall_score(y_test,y_pred))\n",
    "print('precision_score:',precision_score(y_test,y_pred))"
   ]
  },
  {
   "cell_type": "markdown",
   "metadata": {},
   "source": [
    "## Decision Tree"
   ]
  },
  {
   "cell_type": "markdown",
   "metadata": {},
   "source": [
    "### CART4"
   ]
  },
  {
   "cell_type": "code",
   "execution_count": 33,
   "metadata": {
    "ExecuteTime": {
     "end_time": "2019-06-18T12:03:30.425536Z",
     "start_time": "2019-06-18T12:01:26.041774Z"
    },
    "scrolled": true
   },
   "outputs": [
    {
     "name": "stdout",
     "output_type": "stream",
     "text": [
      "confusion matrix: [[23693  2440]\n",
      " [ 2793 23311]]\n",
      "accuracy_score: 0.8998219652736567\n",
      "classification_report:               precision    recall  f1-score   support\n",
      "\n",
      "           0       0.89      0.91      0.90     26133\n",
      "           1       0.91      0.89      0.90     26104\n",
      "\n",
      "    accuracy                           0.90     52237\n",
      "   macro avg       0.90      0.90      0.90     52237\n",
      "weighted avg       0.90      0.90      0.90     52237\n",
      "\n",
      "f1_score: 0.8990839841866745\n",
      "recall_score: 0.8930049034630708\n",
      "precision_score: 0.9052463981981282\n"
     ]
    }
   ],
   "source": [
    "dt=DecisionTreeClassifier()\n",
    "dt.fit(x_train,y_train)\n",
    "y_pred_dt=dt.predict(x_test)\n",
    "print('confusion matrix:',confusion_matrix(y_test,y_pred_dt))\n",
    "print('accuracy_score:',accuracy_score(y_test,y_pred_dt))\n",
    "print('classification_report:',classification_report(y_test,y_pred_dt))\n",
    "print('f1_score:',f1_score(y_test,y_pred_dt))\n",
    "print('recall_score:',recall_score(y_test,y_pred_dt))\n",
    "print('precision_score:',precision_score(y_test,y_pred_dt))"
   ]
  },
  {
   "cell_type": "markdown",
   "metadata": {},
   "source": [
    "### ID3"
   ]
  },
  {
   "cell_type": "code",
   "execution_count": 34,
   "metadata": {
    "ExecuteTime": {
     "end_time": "2019-06-18T12:04:45.594410Z",
     "start_time": "2019-06-18T12:03:30.848985Z"
    },
    "scrolled": true
   },
   "outputs": [
    {
     "name": "stdout",
     "output_type": "stream",
     "text": [
      "confusion matrix: [[23602  2531]\n",
      " [ 2794 23310]]\n",
      "classification_report:               precision    recall  f1-score   support\n",
      "\n",
      "           0       0.89      0.90      0.90     26133\n",
      "           1       0.90      0.89      0.90     26104\n",
      "\n",
      "    accuracy                           0.90     52237\n",
      "   macro avg       0.90      0.90      0.90     52237\n",
      "weighted avg       0.90      0.90      0.90     52237\n",
      "\n",
      "accuracy_score: 0.8980607615291843\n",
      "precision_score: 0.9020548740373825\n",
      "f1_score: 0.897487727403985\n",
      "recall_score: 0.8929665951578302\n"
     ]
    }
   ],
   "source": [
    "id3=DecisionTreeClassifier(criterion='entropy')\n",
    "id3.fit(x_train,y_train)\n",
    "y_pred_dt_3=id3.predict(x_test)\n",
    "print('confusion matrix:',confusion_matrix(y_test,y_pred_dt_3))\n",
    "print('classification_report:',classification_report(y_test,y_pred_dt_3))\n",
    "print('accuracy_score:',accuracy_score(y_test,y_pred_dt_3))\n",
    "print('precision_score:',precision_score(y_test,y_pred_dt_3))\n",
    "print('f1_score:',f1_score(y_test,y_pred_dt_3))\n",
    "print('recall_score:',recall_score(y_test,y_pred_dt_3))"
   ]
  },
  {
   "cell_type": "markdown",
   "metadata": {},
   "source": [
    "## SVM"
   ]
  },
  {
   "cell_type": "markdown",
   "metadata": {},
   "source": [
    "Since it is too time-consuming if we run all data in SVM, 7000 samples are chosen as training set and 3000 as testing set."
   ]
  },
  {
   "cell_type": "code",
   "execution_count": 35,
   "metadata": {
    "ExecuteTime": {
     "end_time": "2019-06-18T12:04:46.022840Z",
     "start_time": "2019-06-18T12:04:46.011765Z"
    }
   },
   "outputs": [],
   "source": [
    "x_train_svm=x_train[0:7000]\n",
    "x_test_svm=x_test[0:3000]\n",
    "y_train_svm=y_train[0:7000]\n",
    "y_test_svm=y_test[0:3000]"
   ]
  },
  {
   "cell_type": "code",
   "execution_count": 36,
   "metadata": {
    "ExecuteTime": {
     "end_time": "2019-06-18T12:08:07.015460Z",
     "start_time": "2019-06-18T12:04:46.403999Z"
    }
   },
   "outputs": [
    {
     "name": "stderr",
     "output_type": "stream",
     "text": [
      "/usr/local/lib/python3.7/site-packages/sklearn/svm/base.py:193: FutureWarning: The default value of gamma will change from 'auto' to 'scale' in version 0.22 to account better for unscaled features. Set gamma explicitly to 'auto' or 'scale' to avoid this warning.\n",
      "  \"avoid this warning.\", FutureWarning)\n"
     ]
    },
    {
     "name": "stdout",
     "output_type": "stream",
     "text": [
      "confusion matrix: [[ 349 1175]\n",
      " [ 155 1321]]\n",
      "accuracy_score: 0.5566666666666666\n",
      "classification_report:               precision    recall  f1-score   support\n",
      "\n",
      "           0       0.69      0.23      0.34      1524\n",
      "           1       0.53      0.89      0.67      1476\n",
      "\n",
      "    accuracy                           0.56      3000\n",
      "   macro avg       0.61      0.56      0.50      3000\n",
      "weighted avg       0.61      0.56      0.50      3000\n",
      "\n",
      "recall_score: 0.8949864498644986\n",
      "f1-score: 0.6651560926485397\n",
      "precision_score: 0.5292467948717948\n"
     ]
    }
   ],
   "source": [
    "v=SVC()\n",
    "v.fit(x_train_svm,y_train_svm)\n",
    "y_pred_v=v.predict(x_test_svm)\n",
    "print('confusion matrix:',confusion_matrix(y_test_svm,y_pred_v))\n",
    "print('accuracy_score:',accuracy_score(y_test_svm,y_pred_v))\n",
    "print('classification_report:',classification_report(y_test_svm,y_pred_v))\n",
    "print('recall_score:',recall_score(y_test_svm,y_pred_v))\n",
    "print('f1-score:',f1_score(y_test_svm,y_pred_v))\n",
    "print('precision_score:',precision_score(y_test_svm,y_pred_v))"
   ]
  },
  {
   "cell_type": "markdown",
   "metadata": {},
   "source": [
    "## Naive Bayes"
   ]
  },
  {
   "cell_type": "markdown",
   "metadata": {},
   "source": [
    "### Gaussian Naive Bayes"
   ]
  },
  {
   "cell_type": "code",
   "execution_count": 37,
   "metadata": {
    "ExecuteTime": {
     "end_time": "2019-06-18T12:11:01.291183Z",
     "start_time": "2019-06-18T12:10:42.834010Z"
    }
   },
   "outputs": [
    {
     "name": "stdout",
     "output_type": "stream",
     "text": [
      "confusion matrix: [[ 2455 23678]\n",
      " [  186 25918]]\n",
      "accuracy_score: 0.5431590634990524\n",
      "classification_report:               precision    recall  f1-score   support\n",
      "\n",
      "           0       0.93      0.09      0.17     26133\n",
      "           1       0.52      0.99      0.68     26104\n",
      "\n",
      "    accuracy                           0.54     52237\n",
      "   macro avg       0.73      0.54      0.43     52237\n",
      "weighted avg       0.73      0.54      0.43     52237\n",
      "\n",
      "recall_score: 0.9928746552252529\n",
      "f1_score: 0.6847556142668427\n",
      "precision_score: 0.5225824663279297\n"
     ]
    }
   ],
   "source": [
    "nb=GaussianNB()\n",
    "nb.fit(x_train,y_train)\n",
    "y_pred_nb=nb.predict(x_test)\n",
    "print('confusion matrix:',confusion_matrix(y_test,y_pred_nb))\n",
    "print('accuracy_score:',accuracy_score(y_test,y_pred_nb))\n",
    "print('classification_report:',classification_report(y_test,y_pred_nb))\n",
    "print('recall_score:',recall_score(y_test,y_pred_nb))\n",
    "print('f1_score:',f1_score(y_test,y_pred_nb))\n",
    "print('precision_score:',precision_score(y_test,y_pred_nb))"
   ]
  },
  {
   "cell_type": "markdown",
   "metadata": {},
   "source": [
    "### Multinomial Naive Bayes"
   ]
  },
  {
   "cell_type": "code",
   "execution_count": 38,
   "metadata": {
    "ExecuteTime": {
     "end_time": "2019-06-18T12:11:03.434968Z",
     "start_time": "2019-06-18T12:11:01.825751Z"
    }
   },
   "outputs": [
    {
     "name": "stdout",
     "output_type": "stream",
     "text": [
      "confusion matrix: [[16455  9678]\n",
      " [ 7909 18195]]\n",
      "classification_report:               precision    recall  f1-score   support\n",
      "\n",
      "           0       0.68      0.63      0.65     26133\n",
      "           1       0.65      0.70      0.67     26104\n",
      "\n",
      "    accuracy                           0.66     52237\n",
      "   macro avg       0.66      0.66      0.66     52237\n",
      "weighted avg       0.66      0.66      0.66     52237\n",
      "\n",
      "accuracy_score: 0.6633229320213642\n",
      "precision_score: 0.6527822624044775\n",
      "recall_score: 0.6970196138522832\n",
      "f1_score: 0.6741760379420865\n"
     ]
    }
   ],
   "source": [
    "from sklearn.naive_bayes import MultinomialNB\n",
    "mnb=MultinomialNB()\n",
    "mnb.fit(x_train,y_train)\n",
    "y_pred_mnb=mnb.predict(x_test)\n",
    "print('confusion matrix:',confusion_matrix(y_test,y_pred_mnb))\n",
    "print('classification_report:',classification_report(y_test,y_pred_mnb))\n",
    "print('accuracy_score:',accuracy_score(y_test,y_pred_mnb))\n",
    "print('precision_score:',precision_score(y_test,y_pred_mnb))\n",
    "print('recall_score:',recall_score(y_test,y_pred_mnb))\n",
    "print('f1_score:',f1_score(y_test,y_pred_mnb))"
   ]
  },
  {
   "cell_type": "markdown",
   "metadata": {},
   "source": [
    "### Complement Naive Bayes"
   ]
  },
  {
   "cell_type": "code",
   "execution_count": 39,
   "metadata": {
    "ExecuteTime": {
     "end_time": "2019-06-18T12:11:04.828240Z",
     "start_time": "2019-06-18T12:11:03.840812Z"
    }
   },
   "outputs": [
    {
     "name": "stdout",
     "output_type": "stream",
     "text": [
      "confusion matrix: [[16455  9678]\n",
      " [ 7909 18195]]\n",
      "classification_report:               precision    recall  f1-score   support\n",
      "\n",
      "           0       0.68      0.63      0.65     26133\n",
      "           1       0.65      0.70      0.67     26104\n",
      "\n",
      "    accuracy                           0.66     52237\n",
      "   macro avg       0.66      0.66      0.66     52237\n",
      "weighted avg       0.66      0.66      0.66     52237\n",
      "\n",
      "accuracy_score: 0.6633229320213642\n",
      "precision_score: 0.6527822624044775\n",
      "recall_score: 0.6970196138522832\n",
      "f1_score: 0.6741760379420865\n"
     ]
    }
   ],
   "source": [
    "from sklearn.naive_bayes import ComplementNB\n",
    "cnb=ComplementNB()\n",
    "cnb.fit(x_train,y_train)\n",
    "y_pred_cnb=mnb.predict(x_test)\n",
    "print('confusion matrix:',confusion_matrix(y_test,y_pred_cnb))\n",
    "print('classification_report:',classification_report(y_test,y_pred_cnb))\n",
    "print('accuracy_score:',accuracy_score(y_test,y_pred_cnb))\n",
    "print('precision_score:',precision_score(y_test,y_pred_cnb))\n",
    "print('recall_score:',recall_score(y_test,y_pred_cnb))\n",
    "print('f1_score:',f1_score(y_test,y_pred_cnb))"
   ]
  },
  {
   "cell_type": "markdown",
   "metadata": {},
   "source": [
    "### Bernoulli Naive Bayes"
   ]
  },
  {
   "cell_type": "code",
   "execution_count": 40,
   "metadata": {
    "ExecuteTime": {
     "end_time": "2019-06-18T12:11:14.221311Z",
     "start_time": "2019-06-18T12:11:05.216130Z"
    }
   },
   "outputs": [
    {
     "name": "stdout",
     "output_type": "stream",
     "text": [
      "confusion matrix: [[20594  5539]\n",
      " [ 4988 21116]]\n",
      "classification_report:               precision    recall  f1-score   support\n",
      "\n",
      "           0       0.81      0.79      0.80     26133\n",
      "           1       0.79      0.81      0.80     26104\n",
      "\n",
      "    accuracy                           0.80     52237\n",
      "   macro avg       0.80      0.80      0.80     52237\n",
      "weighted avg       0.80      0.80      0.80     52237\n",
      "\n",
      "accuracy_score: 0.7984761758906522\n",
      "precision_score: 0.7921965860063778\n",
      "recall_score: 0.8089181734600062\n",
      "f1_score: 0.8004700619799465\n"
     ]
    }
   ],
   "source": [
    "from sklearn.naive_bayes import BernoulliNB\n",
    "bnb=BernoulliNB()\n",
    "bnb.fit(x_train,y_train)\n",
    "y_pred_bnb=bnb.predict(x_test)\n",
    "print('confusion matrix:',confusion_matrix(y_test,y_pred_bnb))\n",
    "print('classification_report:',classification_report(y_test,y_pred_bnb))\n",
    "print('accuracy_score:',accuracy_score(y_test,y_pred_bnb))\n",
    "print('precision_score:',precision_score(y_test,y_pred_bnb))\n",
    "print('recall_score:',recall_score(y_test,y_pred_bnb))\n",
    "print('f1_score:',f1_score(y_test,y_pred_bnb))"
   ]
  },
  {
   "cell_type": "markdown",
   "metadata": {},
   "source": [
    "## KNN"
   ]
  },
  {
   "cell_type": "markdown",
   "metadata": {
    "ExecuteTime": {
     "end_time": "2019-06-20T06:03:24.096148Z",
     "start_time": "2019-06-20T06:03:24.091718Z"
    }
   },
   "source": [
    "KNN is also time-consuming."
   ]
  },
  {
   "cell_type": "code",
   "execution_count": 41,
   "metadata": {
    "ExecuteTime": {
     "end_time": "2019-06-18T12:11:14.754554Z",
     "start_time": "2019-06-18T12:11:14.742984Z"
    }
   },
   "outputs": [],
   "source": [
    "x_train_knn=x_train[0:7000]\n",
    "x_test_knn=x_test[0:3000]\n",
    "y_train_knn=y_train[0:7000]\n",
    "y_test_knn=y_test[0:3000]"
   ]
  },
  {
   "cell_type": "code",
   "execution_count": 42,
   "metadata": {
    "ExecuteTime": {
     "end_time": "2019-06-18T12:12:26.789751Z",
     "start_time": "2019-06-18T12:11:15.154360Z"
    }
   },
   "outputs": [
    {
     "name": "stdout",
     "output_type": "stream",
     "text": [
      "confusion matrix: [[ 302 1222]\n",
      " [ 100 1376]]\n",
      "classification_report:               precision    recall  f1-score   support\n",
      "\n",
      "           0       0.75      0.20      0.31      1524\n",
      "           1       0.53      0.93      0.68      1476\n",
      "\n",
      "    accuracy                           0.56      3000\n",
      "   macro avg       0.64      0.57      0.49      3000\n",
      "weighted avg       0.64      0.56      0.49      3000\n",
      "\n",
      "accuracy_score: 0.5593333333333333\n",
      "precision_score: 0.5296381832178599\n",
      "recall_score: 0.9322493224932249\n",
      "f1-score: 0.9322493224932249\n"
     ]
    }
   ],
   "source": [
    "knn=KNeighborsClassifier()\n",
    "knn.fit(x_train_knn,y_train_knn)\n",
    "y_pred_knn=knn.predict(x_test_knn)\n",
    "print('confusion matrix:',confusion_matrix(y_test_knn,y_pred_knn))\n",
    "print('classification_report:',classification_report(y_test_knn,y_pred_knn))\n",
    "print('accuracy_score:',accuracy_score(y_test_knn,y_pred_knn))\n",
    "print('precision_score:',precision_score(y_test_knn,y_pred_knn))\n",
    "print('recall_score:',recall_score(y_test_knn,y_pred_knn))\n",
    "print('f1-score:',recall_score(y_test_knn,y_pred_knn))"
   ]
  },
  {
   "cell_type": "markdown",
   "metadata": {},
   "source": [
    "## GBDT"
   ]
  },
  {
   "cell_type": "code",
   "execution_count": 43,
   "metadata": {
    "ExecuteTime": {
     "end_time": "2019-06-18T12:45:44.229587Z",
     "start_time": "2019-06-18T12:12:42.164013Z"
    },
    "scrolled": true
   },
   "outputs": [
    {
     "name": "stdout",
     "output_type": "stream",
     "text": [
      "confusion matrix: [[25426   707]\n",
      " [ 4048 22056]]\n",
      "accuracy_score: 0.9089725673373279\n",
      "classification_report:               precision    recall  f1-score   support\n",
      "\n",
      "           0       0.86      0.97      0.91     26133\n",
      "           1       0.97      0.84      0.90     26104\n",
      "\n",
      "    accuracy                           0.91     52237\n",
      "   macro avg       0.92      0.91      0.91     52237\n",
      "weighted avg       0.92      0.91      0.91     52237\n",
      "\n",
      "f1_score: 0.9026950702928356\n",
      "recall_score: 0.8449279803861477\n",
      "precision_score: 0.9689408250230638\n"
     ]
    }
   ],
   "source": [
    "gbdt=GradientBoostingClassifier()\n",
    "gbdt.fit(x_train,y_train)\n",
    "y_pred_gbdt=gbdt.predict(x_test)\n",
    "print('confusion matrix:',confusion_matrix(y_test,y_pred_gbdt))\n",
    "print('accuracy_score:',accuracy_score(y_test,y_pred_gbdt))\n",
    "print('classification_report:',classification_report(y_test,y_pred_gbdt))\n",
    "print('f1_score:',f1_score(y_test,y_pred_gbdt))\n",
    "print('recall_score:',recall_score(y_test,y_pred_gbdt))\n",
    "print('precision_score:',precision_score(y_test,y_pred_gbdt))"
   ]
  },
  {
   "cell_type": "markdown",
   "metadata": {},
   "source": [
    "## Random Forest"
   ]
  },
  {
   "cell_type": "code",
   "execution_count": 44,
   "metadata": {
    "ExecuteTime": {
     "end_time": "2019-06-18T12:46:11.684808Z",
     "start_time": "2019-06-18T12:45:44.693767Z"
    },
    "scrolled": true
   },
   "outputs": [
    {
     "name": "stderr",
     "output_type": "stream",
     "text": [
      "/usr/local/lib/python3.7/site-packages/sklearn/ensemble/forest.py:245: FutureWarning: The default value of n_estimators will change from 10 in version 0.20 to 100 in 0.22.\n",
      "  \"10 in version 0.20 to 100 in 0.22.\", FutureWarning)\n"
     ]
    },
    {
     "name": "stdout",
     "output_type": "stream",
     "text": [
      "confusion matrix: [[25806   327]\n",
      " [ 3010 23094]]\n",
      "accuracy_score: 0.9361180772249554\n",
      "classification_report:               precision    recall  f1-score   support\n",
      "\n",
      "           0       0.90      0.99      0.94     26133\n",
      "           1       0.99      0.88      0.93     26104\n",
      "\n",
      "    accuracy                           0.94     52237\n",
      "   macro avg       0.94      0.94      0.94     52237\n",
      "weighted avg       0.94      0.94      0.94     52237\n",
      "\n",
      "f1_score: 0.9326198889449773\n",
      "recall_score: 0.8846920012258658\n",
      "precision_score: 0.9860381708722941\n"
     ]
    }
   ],
   "source": [
    "rf_r=RandomForestClassifier()\n",
    "rf_r.fit(x_train,y_train)\n",
    "y_pred_rf=rf_r.predict(x_test)\n",
    "print('confusion matrix:',confusion_matrix(y_test,y_pred_rf))\n",
    "print('accuracy_score:',accuracy_score(y_test,y_pred_rf))\n",
    "print('classification_report:',classification_report(y_test,y_pred_rf))\n",
    "print('f1_score:',f1_score(y_test,y_pred_rf))\n",
    "print('recall_score:',recall_score(y_test,y_pred_rf))\n",
    "print('precision_score:',precision_score(y_test,y_pred_rf))"
   ]
  },
  {
   "cell_type": "markdown",
   "metadata": {},
   "source": [
    "## Model Comparison"
   ]
  },
  {
   "cell_type": "markdown",
   "metadata": {},
   "source": [
    "The results of models are shown in Table 1.  Comparing the performance of models, we could find that RF outperforms all the other models, with accuracy of 93.7%, precision of 98.6%, recall of 88.7% and f1-score 93.4%. Thus RF is selected as the optimal model to identify readmission patterns of diabetic patients.\n"
   ]
  },
  {
   "cell_type": "markdown",
   "metadata": {},
   "source": [
    "| Model | Accuracy | Precision | Recall | F1 |\n",
    "| :---: | :---: | :---: | :---: | :---: |\n",
    "| LR | 0.697 | 0.698 | 0.697 | 0.697 |\n",
    "| CART4 | 0.900 | 0.905 | 0.894 | 0.900 |\n",
    "| ID3 | 0.897 | 0.903 | 0.896 | 0.890 |\n",
    "| SVC | 0.560 | 0.534 | 0.834 | 0.665 |\n",
    "| NB-Gaussian | 0.542 | 0.522 | 0.993 | 0.684 |\n",
    "| NB-Multinomial | 0.664 | 0.654 | 0.699 | 0.675 |\n",
    "| NB-Complement | 0.665 | 0.652 | 0.698 | 0.676 |\n",
    "| NB-Bernoulli | 0.801 | 0.794 | 0.811 | 0.802 |\n",
    "| KNN | 0.683 | 0.615 | 0.979 | 0.755 |\n",
    "| RF | 0.937 | 0.986 | 0.887 | 0.934 |\n",
    "| GBDT | 0.910 | 0.970 | 0.846 | 0.904 |"
   ]
  },
  {
   "cell_type": "markdown",
   "metadata": {},
   "source": [
    "## Parameter Tuning"
   ]
  },
  {
   "cell_type": "markdown",
   "metadata": {},
   "source": [
    "In order to improve the prediction ability of RF, the method of GridSearchCV is used for parameter tuning, which is a module in ScikitLearn which uses the method of cross validation and provides an efficiency way to search for optimal parameters for an estimator. In this research, the cross-validation splitting strategy is 3-fold cross validation. "
   ]
  },
  {
   "cell_type": "markdown",
   "metadata": {},
   "source": [
    "### n_estimators"
   ]
  },
  {
   "cell_type": "code",
   "execution_count": 63,
   "metadata": {
    "ExecuteTime": {
     "end_time": "2019-06-15T08:37:41.257673Z",
     "start_time": "2019-06-15T06:43:07.127862Z"
    },
    "scrolled": true
   },
   "outputs": [
    {
     "name": "stdout",
     "output_type": "stream",
     "text": [
      "best parameters:  {'n_estimators': 170}\n",
      "confusion_matrix:  [[26076    57]\n",
      " [ 2644 23460]]\n",
      "classification_report:               precision    recall  f1-score   support\n",
      "\n",
      "           0       0.91      1.00      0.95     26133\n",
      "           1       1.00      0.90      0.95     26104\n",
      "\n",
      "    accuracy                           0.95     52237\n",
      "   macro avg       0.95      0.95      0.95     52237\n",
      "weighted avg       0.95      0.95      0.95     52237\n",
      "\n",
      "f1_score: 0.9455674008988131\n",
      "recall_score: 0.8987128409439167\n",
      "precision_score: 0.9975762214568185\n"
     ]
    }
   ],
   "source": [
    "from sklearn.model_selection import GridSearchCV\n",
    "#adjust parameters\n",
    "para=[{'n_estimators':range(100,210,10)}]\n",
    "rf_para=RandomForestClassifier()\n",
    "gs=GridSearchCV(rf_para,para,cv=3)\n",
    "gs.fit(x_train,y_train)\n",
    "rf_best=gs.best_estimator_\n",
    "rf_para_ypred=rf_best.predict(x_test)\n",
    "print('best parameters: ',gs.best_params_)\n",
    "print('confusion_matrix: ',confusion_matrix(y_test,rf_para_ypred))\n",
    "print('classification_report:',classification_report(y_test,rf_para_ypred)) \n",
    "print('f1_score:',f1_score(y_test,rf_para_ypred))\n",
    "print('recall_score:',recall_score(y_test,rf_para_ypred))\n",
    "print('precision_score:',precision_score(y_test,rf_para_ypred))"
   ]
  },
  {
   "cell_type": "markdown",
   "metadata": {},
   "source": [
    "### max_features"
   ]
  },
  {
   "cell_type": "code",
   "execution_count": 64,
   "metadata": {
    "ExecuteTime": {
     "end_time": "2019-06-15T14:15:45.066331Z",
     "start_time": "2019-06-15T10:12:29.966526Z"
    },
    "code_folding": [],
    "scrolled": false
   },
   "outputs": [
    {
     "name": "stdout",
     "output_type": "stream",
     "text": [
      "best parameters:  {'max_features': 100}\n",
      "confusion_matrix:  [[26048    85]\n",
      " [ 2766 23338]]\n",
      "classification_report:               precision    recall  f1-score   support\n",
      "\n",
      "           0       0.90      1.00      0.95     26133\n",
      "           1       1.00      0.89      0.94     26104\n",
      "\n",
      "    accuracy                           0.95     52237\n",
      "   macro avg       0.95      0.95      0.95     52237\n",
      "weighted avg       0.95      0.95      0.95     52237\n",
      "\n",
      "f1_score: 0.9424354392553557\n",
      "recall_score: 0.8940392277045663\n",
      "precision_score: 0.9963710882465953\n"
     ]
    }
   ],
   "source": [
    "para=[{'max_features':range(100,210,10)}]\n",
    "rf_para=RandomForestClassifier(n_estimators=170)\n",
    "gs=GridSearchCV(rf_para,para,cv=3)\n",
    "gs.fit(x_train,y_train)\n",
    "rf_best2=gs.best_estimator_\n",
    "rf_para_ypred2=rf_best2.predict(x_test)\n",
    "print('best parameters: ',gs.best_params_)\n",
    "print('confusion_matrix: ',confusion_matrix(y_test,rf_para_ypred2))\n",
    "print('classification_report:',classification_report(y_test,rf_para_ypred2)) \n",
    "print('f1_score:',f1_score(y_test,rf_para_ypred2))\n",
    "print('recall_score:',recall_score(y_test,rf_para_ypred2))\n",
    "print('precision_score:',precision_score(y_test,rf_para_ypred2))"
   ]
  },
  {
   "cell_type": "markdown",
   "metadata": {},
   "source": [
    "### identify readmission patterns of diabetic patients"
   ]
  },
  {
   "cell_type": "code",
   "execution_count": 46,
   "metadata": {
    "ExecuteTime": {
     "end_time": "2019-06-17T16:57:37.656977Z",
     "start_time": "2019-06-17T16:48:11.399053Z"
    }
   },
   "outputs": [
    {
     "data": {
      "text/plain": [
       "RandomForestClassifier(bootstrap=True, class_weight=None, criterion='gini',\n",
       "                       max_depth=None, max_features=100, max_leaf_nodes=None,\n",
       "                       min_impurity_decrease=0.0, min_impurity_split=None,\n",
       "                       min_samples_leaf=1, min_samples_split=2,\n",
       "                       min_weight_fraction_leaf=0.0, n_estimators=170,\n",
       "                       n_jobs=None, oob_score=False, random_state=None,\n",
       "                       verbose=0, warm_start=False)"
      ]
     },
     "execution_count": 46,
     "metadata": {},
     "output_type": "execute_result"
    }
   ],
   "source": [
    "rf=RandomForestClassifier(n_estimators=170, max_features=100)\n",
    "rf.fit(x_train,y_train)"
   ]
  },
  {
   "cell_type": "code",
   "execution_count": 65,
   "metadata": {
    "ExecuteTime": {
     "end_time": "2019-06-15T14:30:54.760853Z",
     "start_time": "2019-06-15T14:21:27.488385Z"
    },
    "scrolled": false
   },
   "outputs": [
    {
     "name": "stdout",
     "output_type": "stream",
     "text": [
      "confusion matrix: [[26057    76]\n",
      " [ 2756 23348]]\n",
      "accuracy_score: 0.9457855543005915\n",
      "classification_report:               precision    recall  f1-score   support\n",
      "\n",
      "           0       0.90      1.00      0.95     26133\n",
      "           1       1.00      0.89      0.94     26104\n",
      "\n",
      "    accuracy                           0.95     52237\n",
      "   macro avg       0.95      0.95      0.95     52237\n",
      "weighted avg       0.95      0.95      0.95     52237\n",
      "\n",
      "f1_score: 0.9428202229042159\n",
      "recall_score: 0.8944223107569721\n",
      "precision_score: 0.9967554644808743\n"
     ]
    }
   ],
   "source": [
    "y_pred_rf_best=rf.predict(x_test)\n",
    "print('confusion matrix:',confusion_matrix(y_test,y_pred_rf_best))\n",
    "print('accuracy_score:',accuracy_score(y_test,y_pred_rf_best))\n",
    "print('classification_report:',classification_report(y_test,y_pred_rf_best))\n",
    "print('f1_score:',f1_score(y_test,y_pred_rf_best))\n",
    "print('recall_score:',recall_score(y_test,y_pred_rf_best))\n",
    "print('precision_score:',precision_score(y_test,y_pred_rf_best))"
   ]
  },
  {
   "cell_type": "markdown",
   "metadata": {},
   "source": [
    "It is obvious that RF performs better after parameter tuning. Moreover, comparing results of RF with best model[5] of previous works[5][8][23], RF has the highest accuracy, precision, recall and f1-score, which means this research is really meaningful. "
   ]
  },
  {
   "cell_type": "markdown",
   "metadata": {
    "ExecuteTime": {
     "end_time": "2019-06-20T07:45:52.124979Z",
     "start_time": "2019-06-20T07:45:52.116054Z"
    }
   },
   "source": [
    "| Models | Accuracy | Precision | Recall | F1-score |\n",
    "| --- | --- | --- | --- | --- |\n",
    "| RF(ours) | 0.946 | 0.997 | 0.894 | 0.943 |\n",
    "| ESALOR[5] | 0.762 | 0.77 | 0.77 | 0.86 |"
   ]
  },
  {
   "cell_type": "code",
   "execution_count": 75,
   "metadata": {
    "ExecuteTime": {
     "end_time": "2019-06-15T15:24:34.658928Z",
     "start_time": "2019-06-15T15:24:34.363504Z"
    },
    "scrolled": true
   },
   "outputs": [
    {
     "data": {
      "text/plain": [
       "<matplotlib.axes._subplots.AxesSubplot at 0x3cf438278>"
      ]
     },
     "execution_count": 75,
     "metadata": {},
     "output_type": "execute_result"
    },
    {
     "data": {
      "image/png": "[encoded data removed]",
      "text/plain": [
       "<Figure size 432x288 with 2 Axes>"
      ]
     },
     "metadata": {},
     "output_type": "display_data"
    }
   ],
   "source": [
    "import seaborn as sns\n",
    "cn_dt=confusion_matrix(y_test,y_pred_rf_best)\n",
    "sns.heatmap(cn_dt, cmap = sns.color_palette(\"Blues\"), annot=True)"
   ]
  },
  {
   "cell_type": "markdown",
   "metadata": {},
   "source": [
    "After obtaining the optimal parameters of RF, importance of each features is identified and top-20 most important features are displayed."
   ]
  },
  {
   "cell_type": "code",
   "execution_count": 129,
   "metadata": {
    "ExecuteTime": {
     "end_time": "2019-06-15T18:10:07.737529Z",
     "start_time": "2019-06-15T18:10:05.922427Z"
    }
   },
   "outputs": [
    {
     "data": {
      "image/png": "[encoded data removed]",
      "text/plain": [
       "<Figure size 1440x1080 with 1 Axes>"
      ]
     },
     "metadata": {},
     "output_type": "display_data"
    }
   ],
   "source": [
    "import heapq\n",
    "y_importances=list(rf.feature_importances_)\n",
    "features=list(diabete_onehot.iloc[:,0:-1].columns)\n",
    "top_20_features_index=list(map(y_importances.index,heapq.nlargest(20,y_importances)))\n",
    "x_importances=[]\n",
    "y_importances_=[]\n",
    "for i in top_20_features_index:\n",
    "    x_importances.append(features[i])\n",
    "    y_importances_.append(y_importances[i])\n",
    "plt.figure(figsize=(20,15))\n",
    "plt.barh(y=x_importances,width=y_importances_,alpha=0.4)\n",
    "plt.xlabel('Importances',fontsize=25)\n",
    "plt.xlim(0,0.2)\n",
    "plt.yticks(fontsize=25)\n",
    "plt.xticks(fontsize=25)\n",
    "plt.ylabel('Features',fontsize=25)\n",
    "plt.title('Feature Importances Top 20',fontsize=30)\n",
    "for x,y in zip(x_importances,y_importances_):\n",
    "    plt.text( y+0.01,x, '%.4f' % y, ha='center', va= 'bottom',fontsize=20)\n",
    "plt.savefig('top_20_features.png')\n",
    "plt.show()"
   ]
  },
  {
   "cell_type": "markdown",
   "metadata": {},
   "source": [
    "# CONCLUSIONS"
   ]
  },
  {
   "attachments": {},
   "cell_type": "markdown",
   "metadata": {},
   "source": [
    "Health care has drawn more and more attention all over the world these days. In U.S., a program called Hospital Readmissions Reduction Program (HRRP) are trying to improve Americans’ health care by penalizing health systems with higher readmission rates than expected. Thus health systems are supposed to decrease their readmission rates as much as possible. However, due to the complexity and diversity of demographic, social, diseases and disease-related characteristics, it is difficult to decrease readmission rates merely based on clinical expertise. Therefore, this research aims to predict diabetic patients with high-risk readmissions via machine learning methods and help health systems identify readmission patterns. After data pre-processing, several models are trained, including Logistic Regression, Decision Tree, Support Vector Machine, Naive Bayes, K-Nearest Neighbour, Random Forest and Gradient Boosting Decision Tree. However, all these models perform badly. Thus a method called Borderline-SMOTE is used to rebalance the data and the models are trained again. The results show that this method really improves the ability of models. Then the performance of several models are compared, and Random Forest (RF) outperforms all the other models and is selected for further work. After parameter tuning, the accuracy of RF is 94.6%, precision is 99.7%, recall is 89.4%, and f1-score 94.3%, higher than all models including those in previous works. Finally, top 20 most important features are identified by RF. \n",
    "\n",
    "Limitations of this research are: 1) values of possibly important features such as “weight” are missing; 2) how these features influence the readmissions of diabetic patients has not decided yet.  Future work could be: 1) collecting more data and discovering whether these possibly important but missing features have influence on readmissions of diabetic patients; 2) determining whether these important features have positive influence or negative influence on readmissions of diabetic patients."
   ]
  }
 ],
 "metadata": {
  "kernelspec": {
   "display_name": "Python 3",
   "language": "python",
   "name": "python3"
  },
  "toc": {
   "base_numbering": 1,
   "nav_menu": {
    "height": "217px",
    "width": "209px"
   },
   "number_sections": true,
   "sideBar": true,
   "skip_h1_title": false,
   "title_cell": "Table of Contents",
   "title_sidebar": "Contents",
   "toc_cell": false,
   "toc_position": {},
   "toc_section_display": true,
   "toc_window_display": false
  },
  "varInspector": {
   "cols": {
    "lenName": 16,
    "lenType": 16,
    "lenVar": 40
   },
   "kernels_config": {
    "python": {
     "delete_cmd_postfix": "",
     "delete_cmd_prefix": "del ",
     "library": "var_list.py",
     "varRefreshCmd": "print(var_dic_list())"
    },
    "r": {
     "delete_cmd_postfix": ") ",
     "delete_cmd_prefix": "rm(",
     "library": "var_list.r",
     "varRefreshCmd": "cat(var_dic_list()) "
    }
   },
   "position": {
    "height": "395px",
    "left": "883px",
    "right": "20px",
    "top": "137px",
    "width": "323px"
   },
   "types_to_exclude": [
    "module",
    "function",
    "builtin_function_or_method",
    "instance",
    "_Feature"
   ],
   "window_display": false
  }
 },
 "nbformat": 4,
 "nbformat_minor": 2
}
